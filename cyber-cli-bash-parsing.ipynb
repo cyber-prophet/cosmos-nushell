{
 "cells": [
  {
   "cell_type": "code",
   "execution_count": null,
   "metadata": {},
   "outputs": [],
   "source": [
    "import re\n",
    "import subprocess\n",
    "import os\n",
    "import json\n",
    "\n",
    "import pandas as pd\n",
    "\n",
    "# import xlwings as xw\n"
   ]
  },
  {
   "cell_type": "code",
   "execution_count": null,
   "metadata": {},
   "outputs": [],
   "source": [
    "exec_name = \"gaiad\"\n",
    "dir = \"out/\" + exec_name + \"/\"\n",
    "dir_md = dir + \"comands-md-files/\"\n"
   ]
  },
  {
   "cell_type": "code",
   "execution_count": null,
   "metadata": {},
   "outputs": [],
   "source": [
    "if not os.path.isdir(dir):\n",
    "    os.mkdir(dir)\n",
    "    os.mkdir(dir_md)\n",
    "\n",
    "for f in os.listdir(dir_md):\n",
    "    os.remove(os.path.join(dir_md, f))\n"
   ]
  },
  {
   "cell_type": "code",
   "execution_count": null,
   "metadata": {},
   "outputs": [],
   "source": [
    "chapters_to_include = [\n",
    "    \"Available Commands:\",\n",
    "    \"Usage:\",\n",
    "    \"Aliases:\",\n",
    "    \"Flags:\",\n",
    "    \"Global Flags:\",\n",
    "    \"Example:\",\n",
    "    \"Examples:\",\n",
    "]\n"
   ]
  },
  {
   "cell_type": "code",
   "execution_count": null,
   "metadata": {},
   "outputs": [],
   "source": [
    "def get_cli_output(command: str):\n",
    "\n",
    "    _args = command.split()\n",
    "    _args.append(\"-h\")\n",
    "\n",
    "    out = subprocess.run(_args, capture_output=True)\n",
    "    text = out.stdout.decode(\"utf-8\") + out.stderr.decode(\"utf-8\")\n",
    "\n",
    "    with open(dir_md + command + \".md\", \"w\") as file:\n",
    "        file.write(text)\n",
    "\n",
    "    return text\n",
    "\n",
    "\n",
    "# text = get_cli_output('cyber')\n"
   ]
  },
  {
   "cell_type": "code",
   "execution_count": null,
   "metadata": {},
   "outputs": [],
   "source": [
    "def parse_cli_stdout(command: str):\n",
    "\n",
    "    _text = get_cli_output(command)\n",
    "    _lines = _text.split(\"\\n\")\n",
    "\n",
    "    chapters = {\"command\": command}\n",
    "    chapter = \"Description\"\n",
    "    chapters[chapter] = []\n",
    "\n",
    "    for l in _lines:\n",
    "        if l != \"\":\n",
    "            if l in chapters_to_include:\n",
    "                chapter = l[:-1]\n",
    "                chapters[chapter] = []\n",
    "            else:\n",
    "                chapters[chapter].append(l)\n",
    "\n",
    "    return chapters\n",
    "\n",
    "\n",
    "# chapters = parse_cli_stdout(\"gaiad\")\n",
    "# print(chapters)\n"
   ]
  },
  {
   "cell_type": "code",
   "execution_count": null,
   "metadata": {},
   "outputs": [],
   "source": [
    "def get_sub_commands(chapters):\n",
    "    new_commands = []\n",
    "\n",
    "    if \"Available Commands\" in chapters:\n",
    "        for l in chapters[\"Available Commands\"]:\n",
    "            if _match := re.search(r\"^\\s+(.*?)\\s+(.*)\", l):\n",
    "                sub_command = _match.group(1)\n",
    "\n",
    "                command_candidate = \" \".join(\n",
    "                    (chapters[\"command\"] + \" \" + sub_command).split()\n",
    "                )\n",
    "                new_commands.append(command_candidate)\n",
    "\n",
    "    return new_commands\n",
    "    # del chapters[\"Available Commands\"]\n",
    "\n",
    "\n",
    "# new_commands = get_sub_commands(chapters)\n",
    "# new_commands\n"
   ]
  },
  {
   "cell_type": "code",
   "execution_count": null,
   "metadata": {},
   "outputs": [],
   "source": [
    "parsed_commands = []\n",
    "all_commands = []\n",
    "new_commands = [exec_name + \" \"]\n",
    "\n",
    "while True:\n",
    "    for command in new_commands:\n",
    "\n",
    "        commands_dict = parse_cli_stdout(command)\n",
    "        new_command_candidates = get_sub_commands(commands_dict)\n",
    "        all_commands.append(commands_dict)\n",
    "\n",
    "        for candidate in new_command_candidates:\n",
    "            if candidate not in parsed_commands:\n",
    "                new_commands.append(candidate)\n",
    "                parsed_commands.append(candidate)\n",
    "        new_commands.remove(command)\n",
    "    if new_commands == []:\n",
    "        break\n"
   ]
  },
  {
   "cell_type": "code",
   "execution_count": null,
   "metadata": {},
   "outputs": [],
   "source": [
    "# all_commands\n"
   ]
  },
  {
   "cell_type": "code",
   "execution_count": null,
   "metadata": {},
   "outputs": [],
   "source": [
    "json_object = json.dumps(all_commands, indent=4)\n",
    "\n",
    "with open(dir + exec_name + \"_commands.json\", \"w\") as outfile:\n",
    "    outfile.write(json_object)\n"
   ]
  },
  {
   "cell_type": "code",
   "execution_count": null,
   "metadata": {},
   "outputs": [],
   "source": [
    "len(all_commands)\n"
   ]
  },
  {
   "cell_type": "code",
   "execution_count": null,
   "metadata": {},
   "outputs": [],
   "source": [
    "command_files = []\n",
    "\n",
    "for f in os.listdir(dir_md):\n",
    "    if f[-3:] == \".md\":\n",
    "        command_files.append(f)\n",
    "\n",
    "command_files.sort()\n",
    "# command_files\n"
   ]
  },
  {
   "cell_type": "code",
   "execution_count": null,
   "metadata": {},
   "outputs": [],
   "source": [
    "if os.path.exists(dir + exec_name + \"_commands.md\"):\n",
    "    os.remove(dir + exec_name + \"_commands.md\")\n",
    "\n",
    "for f in command_files:\n",
    "    with open(dir_md + f) as f2:\n",
    "        text = f2.read()\n",
    "        file_content = f\"### {f[:-3]}\\n\\n```\\n{text}\\n```\\n\\n\"\n",
    "\n",
    "        with open(dir + exec_name + \"_commands.md\", \"a\") as file:\n",
    "            file.write(file_content)\n"
   ]
  },
  {
   "cell_type": "code",
   "execution_count": null,
   "metadata": {},
   "outputs": [],
   "source": [
    "# with open(\"all_commands.json\", \"r\") as file:\n",
    "#     all_commands = json.load(file)\n"
   ]
  },
  {
   "cell_type": "code",
   "execution_count": null,
   "metadata": {},
   "outputs": [],
   "source": [
    "commands = []\n",
    "\n",
    "for c in all_commands:\n",
    "    if \"Available Commands\" not in c:\n",
    "        commands.append(c)\n"
   ]
  },
  {
   "cell_type": "code",
   "execution_count": null,
   "metadata": {},
   "outputs": [],
   "source": [
    "count = 0\n",
    "for i in commands:\n",
    "    all_flags = []\n",
    "    all_flags.extend(i[\"Flags\"])\n",
    "    del i[\"Flags\"]\n",
    "    if \"Global Flags\" in i:\n",
    "        all_flags.extend(i[\"Global Flags\"])\n",
    "        del i[\"Global Flags\"]\n",
    "\n",
    "    if all_flags != []:\n",
    "        i[\"flags_parsed\"] = []\n",
    "        for b in all_flags:\n",
    "            if match1 := re.match(\n",
    "                r\"\\s\\s+(?:-(?P<short>\\w)[,\\s]+)?(?:--(?P<long>[.\\w-]+))\\s(?:(?P<format>(uint32|ints|strings|int 64Slice|int|string|uint|float|bytesHex)))?\\s*(?P<description>.*)?\",\n",
    "                b,\n",
    "            ):\n",
    "                i[\"flags_parsed\"].append(\n",
    "                    {\n",
    "                        \"long\": match1.group(\"long\"),\n",
    "                        \"short\": match1.group(\"short\"),\n",
    "                        \"format\": match1.group(\"format\"),\n",
    "                        \"description\": match1.group(\"description\"),\n",
    "                    }\n",
    "                )\n"
   ]
  },
  {
   "cell_type": "code",
   "execution_count": null,
   "metadata": {},
   "outputs": [],
   "source": [
    "for c in commands:\n",
    "    # c[\"flags_parsed\"] = [f for f in c[\"flags_parsed\"] if f[\"long\"] != \"help\"]\n",
    "    c[\"Usage\"] = [\n",
    "        l.replace(\"[flags]\", \"\").replace(c[\"command\"], \"\").strip() for l in c[\"Usage\"]\n",
    "    ]\n",
    "    c[\"Description\"] = \" \".join(c[\"Description\"])[:200]\n"
   ]
  },
  {
   "cell_type": "code",
   "execution_count": null,
   "metadata": {},
   "outputs": [],
   "source": [
    "for c in commands:\n",
    "    clean_string = c[\"Usage\"][0].split(\"(\")[0].split(\"--\")[0]\n",
    "    args = re.findall(r\"(?:\\[|\\<)(\\w.+?)(?:\\]|\\>)\", clean_string)\n",
    "    c[\"args\"] = []\n",
    "    for p in args:\n",
    "        p = re.sub(r\"[^A-Za-z0-9]\", \"_\", p)\n",
    "        c[\"args\"].append(p)\n"
   ]
  },
  {
   "cell_type": "code",
   "execution_count": null,
   "metadata": {},
   "outputs": [],
   "source": [
    "# df = pd.DataFrame(commands)\n",
    "# pd.json_normalize(df['flags_parsed'])\n"
   ]
  },
  {
   "cell_type": "code",
   "execution_count": null,
   "metadata": {},
   "outputs": [],
   "source": [
    "# df = pd.DataFrame(commands).explode('flags_parsed').reset_index()\n",
    "# df['command'] = df['command'].apply(lambda x: str(x))\n",
    "# df2 = pd.json_normalize(df['flags_parsed'])\n",
    "\n",
    "# df3 = pd.concat([df[['command', 'Usage']], df2], axis=1)\n",
    "# xw.view(df3)\n"
   ]
  },
  {
   "cell_type": "code",
   "execution_count": null,
   "metadata": {},
   "outputs": [],
   "source": [
    "# for_excel = pd.DataFrame(data=commands).applymap(lambda x: str(x))\n",
    "# xw.view(for_excel)\n"
   ]
  },
  {
   "cell_type": "code",
   "execution_count": null,
   "metadata": {},
   "outputs": [],
   "source": [
    "# for i in all_commands:\n",
    "#     print(i[\"command\"], \"\\n\", i[\"flags_parsed\"])\n"
   ]
  },
  {
   "cell_type": "code",
   "execution_count": null,
   "metadata": {},
   "outputs": [],
   "source": [
    "types_nu_dict = {\n",
    "    \"uint\": \"int\",\n",
    "    \"uint32\": \"int\",\n",
    "    # \"float\": \"decimal\",\n",
    "    \"float\": \"string\",\n",
    "    \"strings\": \"string\",\n",
    "    \"bytesHex\": \"string\",\n",
    "    \"ints\": \"string\",\n",
    "}\n",
    "lines = []\n",
    "\n",
    "for c in commands:\n",
    "    lines.append(f\"\\n# {c['Description']}\\nextern '{c['command']}' [\\n\")\n",
    "    for p in c[\"args\"]:\n",
    "        lines.append(f\"\\t{p}: string\\n\")\n",
    "    # print(f\"\\n# {c['Description']}\\nextern '{c['command']}' [\")\n",
    "    for f in c[\"flags_parsed\"]:\n",
    "        if \".\" not in f[\"long\"]:\n",
    "            long = f[\"long\"]\n",
    "            short = \"(-\" + f[\"short\"] + \")\" if f[\"short\"] else \"\"\n",
    "            f1 = types_nu_dict.get(f[\"format\"], f[\"format\"])\n",
    "            format = \": \" + f1 if f1 else \"\"\n",
    "            description = f[\"description\"]\n",
    "            lines.append(f\"\\t--{long}{short}{format}\\t\\t# {description}\\n\")\n",
    "            # print(f\"\\t--{long}{short}{format}\\t\\t# {description}\")\n",
    "    lines.append(\"]\")\n",
    "    # print(\"]\")\n",
    "\n",
    "with open(dir + exec_name + \"_nu_completions.nu\", \"w\") as file:\n",
    "    file.writelines(lines)\n"
   ]
  },
  {
   "cell_type": "code",
   "execution_count": null,
   "metadata": {},
   "outputs": [],
   "source": []
  }
 ],
 "metadata": {
  "kernelspec": {
   "display_name": "Python 3.9.13 ('cyber')",
   "language": "python",
   "name": "python3"
  },
  "language_info": {
   "codemirror_mode": {
    "name": "ipython",
    "version": 3
   },
   "file_extension": ".py",
   "mimetype": "text/x-python",
   "name": "python",
   "nbconvert_exporter": "python",
   "pygments_lexer": "ipython3",
   "version": "3.9.13"
  },
  "orig_nbformat": 4,
  "vscode": {
   "interpreter": {
    "hash": "6a2e55f4a39c0f335f57965825687bdfac515b1a5fa93a558f4b981305a5a56e"
   }
  }
 },
 "nbformat": 4,
 "nbformat_minor": 2
}
