{
 "cells": [
  {
   "cell_type": "code",
   "execution_count": 14,
   "metadata": {},
   "outputs": [],
   "source": [
    "import re\n",
    "import subprocess\n",
    "import os\n",
    "import json\n"
   ]
  },
  {
   "cell_type": "code",
   "execution_count": 15,
   "metadata": {},
   "outputs": [],
   "source": [
    "exec_name = \"cyber\"\n",
    "dir = \"out/\" + exec_name + \"/\"\n",
    "dir_md = dir + \"comands-md-files/\"\n"
   ]
  },
  {
   "cell_type": "code",
   "execution_count": 16,
   "metadata": {},
   "outputs": [],
   "source": [
    "if not os.path.isdir(dir):\n",
    "    os.mkdir(dir)\n",
    "    os.mkdir(dir_md)\n",
    "\n",
    "for f in os.listdir(dir_md):\n",
    "    os.remove(os.path.join(dir_md, f))\n"
   ]
  },
  {
   "cell_type": "code",
   "execution_count": 17,
   "metadata": {},
   "outputs": [],
   "source": [
    "chapters_to_include = [\n",
    "    \"Available Commands:\",\n",
    "    \"Usage:\",\n",
    "    \"Aliases:\",\n",
    "    \"Flags:\",\n",
    "    \"Global Flags:\",\n",
    "    \"Example:\",\n",
    "    \"Examples:\",\n",
    "]\n"
   ]
  },
  {
   "cell_type": "code",
   "execution_count": 18,
   "metadata": {},
   "outputs": [],
   "source": [
    "def get_cli_output(command: str):\n",
    "\n",
    "    _args = command.split()\n",
    "    _args.append(\"-h\")\n",
    "\n",
    "    out = subprocess.run(_args, capture_output=True)\n",
    "    text = out.stdout.decode(\"utf-8\") + out.stderr.decode(\"utf-8\")\n",
    "\n",
    "    with open(dir_md + command + \".md\", \"w\") as file:\n",
    "        file.write(text)\n",
    "\n",
    "    return text\n",
    "\n",
    "\n",
    "# text = get_cli_output('cyber')\n"
   ]
  },
  {
   "cell_type": "code",
   "execution_count": 19,
   "metadata": {},
   "outputs": [],
   "source": [
    "def parse_cli_stdout(command: str):\n",
    "\n",
    "    _text = get_cli_output(command)\n",
    "    _lines = _text.split(\"\\n\")\n",
    "\n",
    "    chapters = {\"command\": command}\n",
    "    chapter = \"Description\"\n",
    "    chapters[chapter] = []\n",
    "\n",
    "    for l in _lines:\n",
    "        if l != \"\":\n",
    "            if l in chapters_to_include:\n",
    "                chapter = l[:-1]\n",
    "                chapters[chapter] = []\n",
    "            else:\n",
    "                chapters[chapter].append(l)\n",
    "\n",
    "    return chapters\n",
    "\n",
    "\n",
    "# chapters = parse_cli_stdout(\"gaiad\")\n",
    "# print(chapters)\n"
   ]
  },
  {
   "cell_type": "code",
   "execution_count": 20,
   "metadata": {},
   "outputs": [],
   "source": [
    "def get_sub_commands(chapters):\n",
    "    new_commands = []\n",
    "\n",
    "    if \"Available Commands\" in chapters:\n",
    "        for l in chapters[\"Available Commands\"]:\n",
    "            if _match := re.search(r\"^\\s+(.*?)\\s+(.*)\", l):\n",
    "                sub_command = _match.group(1)\n",
    "\n",
    "                command_candidate = \" \".join(\n",
    "                    (chapters[\"command\"] + \" \" + sub_command).split()\n",
    "                )\n",
    "                new_commands.append(command_candidate)\n",
    "\n",
    "    return new_commands\n",
    "    # del chapters[\"Available Commands\"]\n",
    "\n",
    "\n",
    "# new_commands = get_sub_commands(chapters)\n",
    "# new_commands\n"
   ]
  },
  {
   "cell_type": "code",
   "execution_count": 21,
   "metadata": {},
   "outputs": [],
   "source": [
    "parsed_commands = []\n",
    "all_commands_dict_list = []\n",
    "new_commands = [exec_name + \" \"]\n",
    "\n",
    "while True:\n",
    "    for command in new_commands:\n",
    "\n",
    "        commands_dict = parse_cli_stdout(command)\n",
    "        new_command_candidates = get_sub_commands(commands_dict)\n",
    "        all_commands_dict_list.append(commands_dict)\n",
    "\n",
    "        for candidate in new_command_candidates:\n",
    "            if candidate not in parsed_commands:\n",
    "                new_commands.append(candidate)\n",
    "                parsed_commands.append(candidate)\n",
    "        new_commands.remove(command)\n",
    "    if new_commands == []:\n",
    "        break\n"
   ]
  },
  {
   "cell_type": "code",
   "execution_count": 22,
   "metadata": {},
   "outputs": [],
   "source": [
    "# all_commands_dict_list\n"
   ]
  },
  {
   "cell_type": "code",
   "execution_count": 23,
   "metadata": {},
   "outputs": [],
   "source": [
    "json_object = json.dumps(all_commands_dict_list, indent=4)\n",
    "\n",
    "with open(dir + exec_name + \"_commands.json\", \"w\") as outfile:\n",
    "    outfile.write(json_object)\n"
   ]
  },
  {
   "cell_type": "code",
   "execution_count": 24,
   "metadata": {},
   "outputs": [
    {
     "data": {
      "text/plain": [
       "284"
      ]
     },
     "execution_count": 24,
     "metadata": {},
     "output_type": "execute_result"
    }
   ],
   "source": [
    "len(all_commands_dict_list)\n"
   ]
  },
  {
   "cell_type": "code",
   "execution_count": 25,
   "metadata": {},
   "outputs": [],
   "source": [
    "command_files = []\n",
    "\n",
    "for f in os.listdir(dir_md):\n",
    "    if f[-3:] == \".md\":\n",
    "        command_files.append(f)\n",
    "\n",
    "command_files.sort()\n",
    "# command_files\n"
   ]
  },
  {
   "cell_type": "code",
   "execution_count": 26,
   "metadata": {},
   "outputs": [],
   "source": [
    "if os.path.exists(dir + exec_name + \"_commands.md\"):\n",
    "    os.remove(dir + exec_name + \"_commands.md\")\n",
    "\n",
    "for f in command_files:\n",
    "    with open(dir_md + f) as f2:\n",
    "        text = f2.read()\n",
    "        file_content = f\"### {f[:-3]}\\n\\n```\\n{text}\\n```\\n\\n\"\n",
    "\n",
    "        with open(dir + exec_name + \"_commands.md\", \"a\") as file:\n",
    "            file.write(file_content)\n"
   ]
  }
 ],
 "metadata": {
  "kernelspec": {
   "display_name": "Python 3.9.13 ('cyber')",
   "language": "python",
   "name": "python3"
  },
  "language_info": {
   "codemirror_mode": {
    "name": "ipython",
    "version": 3
   },
   "file_extension": ".py",
   "mimetype": "text/x-python",
   "name": "python",
   "nbconvert_exporter": "python",
   "pygments_lexer": "ipython3",
   "version": "3.9.13"
  },
  "orig_nbformat": 4,
  "vscode": {
   "interpreter": {
    "hash": "6a2e55f4a39c0f335f57965825687bdfac515b1a5fa93a558f4b981305a5a56e"
   }
  }
 },
 "nbformat": 4,
 "nbformat_minor": 2
}
