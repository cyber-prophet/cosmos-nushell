{
 "cells": [
  {
   "cell_type": "code",
   "execution_count": 230,
   "metadata": {},
   "outputs": [],
   "source": [
    "import re\n",
    "import subprocess\n",
    "import os\n",
    "import json\n",
    "\n",
    "import pandas as pd\n",
    "\n",
    "# import xlwings as xw\n"
   ]
  },
  {
   "cell_type": "code",
   "execution_count": 231,
   "metadata": {},
   "outputs": [],
   "source": [
    "exec_name = \"pussy\"\n",
    "dir = \"out/\" + exec_name + \"/\"\n",
    "dir_md = dir + \"comands-md-files/\"\n"
   ]
  },
  {
   "cell_type": "code",
   "execution_count": 232,
   "metadata": {},
   "outputs": [],
   "source": [
    "if not os.path.isdir(dir):\n",
    "    os.mkdir(dir)\n",
    "    os.mkdir(dir_md)\n",
    "\n",
    "for f in os.listdir(dir_md):\n",
    "    os.remove(os.path.join(dir_md, f))\n"
   ]
  },
  {
   "cell_type": "code",
   "execution_count": 233,
   "metadata": {},
   "outputs": [],
   "source": [
    "chapters_to_include = [\n",
    "    \"Available Commands:\",\n",
    "    \"Usage:\",\n",
    "    \"Aliases:\",\n",
    "    \"Flags:\",\n",
    "    \"Global Flags:\",\n",
    "    \"Example:\",\n",
    "    \"Examples:\",\n",
    "]\n"
   ]
  },
  {
   "cell_type": "code",
   "execution_count": 244,
   "metadata": {},
   "outputs": [],
   "source": [
    "def get_cli_output(command: str, exec_path: str = \"/Users/user/go/bin\"):\n",
    "\n",
    "    _args = command.split()\n",
    "    _args.append(\"-h\")\n",
    "\n",
    "    out = subprocess.run(_args, capture_output=True, env=dict(PATH=exec_path))\n",
    "    text = out.stdout.decode(\"utf-8\") + out.stderr.decode(\"utf-8\")\n",
    "\n",
    "    with open(dir_md + command + \".md\", \"w\") as file:\n",
    "        file.write(text)\n",
    "\n",
    "    return text\n",
    "\n",
    "\n",
    "# text = get_cli_output('cyber')\n"
   ]
  },
  {
   "cell_type": "code",
   "execution_count": 245,
   "metadata": {},
   "outputs": [],
   "source": [
    "def parse_cli_stdout(command: str):\n",
    "\n",
    "    _text = get_cli_output(command)\n",
    "    _lines = _text.split(\"\\n\")\n",
    "\n",
    "    chapters = {\"command\": command}\n",
    "    chapter = \"Description\"\n",
    "    chapters[chapter] = []\n",
    "\n",
    "    for l in _lines:\n",
    "        if l != \"\":\n",
    "            if l in chapters_to_include:\n",
    "                chapter = l[:-1]  # cutting \":\"\n",
    "                chapters[chapter] = []\n",
    "            else:\n",
    "                chapters[chapter].append(l)\n",
    "\n",
    "    return chapters\n",
    "\n",
    "\n",
    "# chapters = parse_cli_stdout(\"gaiad\")\n",
    "# print(chapters)\n"
   ]
  },
  {
   "cell_type": "code",
   "execution_count": 246,
   "metadata": {},
   "outputs": [],
   "source": [
    "def get_sub_commands(chapters):\n",
    "    new_commands = []\n",
    "\n",
    "    if \"Available Commands\" in chapters:\n",
    "        for l in chapters[\"Available Commands\"]:\n",
    "            if _match := re.search(r\"^\\s+(.*?)\\s+(.*)\", l):\n",
    "                sub_command = _match.group(1)\n",
    "\n",
    "                command_candidate = \" \".join(\n",
    "                    (chapters[\"command\"] + \" \" + sub_command).split()\n",
    "                )\n",
    "                new_commands.append(command_candidate)\n",
    "\n",
    "    return new_commands\n",
    "\n",
    "\n",
    "# new_commands = get_sub_commands(chapters)\n",
    "# new_commands\n"
   ]
  },
  {
   "cell_type": "code",
   "execution_count": 247,
   "metadata": {},
   "outputs": [],
   "source": [
    "parsed_commands = []\n",
    "all_commands = []\n",
    "new_commands = [exec_name + \" \"]\n",
    "\n",
    "while True:\n",
    "    for command in new_commands:\n",
    "\n",
    "        commands_dict = parse_cli_stdout(command)\n",
    "        new_command_candidates = get_sub_commands(commands_dict)\n",
    "        all_commands.append(commands_dict)\n",
    "\n",
    "        for candidate in new_command_candidates:\n",
    "            if candidate not in parsed_commands:\n",
    "                new_commands.append(candidate)\n",
    "                parsed_commands.append(candidate)\n",
    "        new_commands.remove(command)\n",
    "    if new_commands == []:\n",
    "        break\n"
   ]
  },
  {
   "cell_type": "code",
   "execution_count": null,
   "metadata": {},
   "outputs": [],
   "source": [
    "# all_commands\n"
   ]
  },
  {
   "cell_type": "code",
   "execution_count": 248,
   "metadata": {},
   "outputs": [],
   "source": [
    "json_object = json.dumps(all_commands, indent=4)\n",
    "\n",
    "with open(dir + exec_name + \"_commands.json\", \"w\") as outfile:\n",
    "    outfile.write(json_object)\n"
   ]
  },
  {
   "cell_type": "code",
   "execution_count": 249,
   "metadata": {},
   "outputs": [
    {
     "data": {
      "text/plain": [
       "284"
      ]
     },
     "execution_count": 249,
     "metadata": {},
     "output_type": "execute_result"
    }
   ],
   "source": [
    "len(all_commands)\n"
   ]
  },
  {
   "cell_type": "code",
   "execution_count": 250,
   "metadata": {},
   "outputs": [],
   "source": [
    "command_files = []\n",
    "\n",
    "for f in os.listdir(dir_md):\n",
    "    if f[-3:] == \".md\":\n",
    "        command_files.append(f)\n",
    "\n",
    "command_files.sort()\n",
    "# command_files\n"
   ]
  },
  {
   "cell_type": "code",
   "execution_count": 251,
   "metadata": {},
   "outputs": [],
   "source": [
    "if os.path.exists(dir + exec_name + \"_commands.md\"):\n",
    "    os.remove(dir + exec_name + \"_commands.md\")\n",
    "\n",
    "for f in command_files:\n",
    "    with open(dir_md + f) as f2:\n",
    "        text = f2.read()\n",
    "        file_content = f\"### {f[:-3]}\\n\\n```\\n{text}\\n```\\n\\n\"\n",
    "\n",
    "        with open(dir + exec_name + \"_commands.md\", \"a\") as file:\n",
    "            file.write(file_content)\n"
   ]
  },
  {
   "cell_type": "code",
   "execution_count": 252,
   "metadata": {},
   "outputs": [],
   "source": [
    "# with open(\"all_commands.json\", \"r\") as file:\n",
    "#     all_commands = json.load(file)\n"
   ]
  },
  {
   "cell_type": "code",
   "execution_count": 253,
   "metadata": {},
   "outputs": [],
   "source": [
    "commands = []\n",
    "\n",
    "for c in all_commands:\n",
    "    if \"Available Commands\" not in c:\n",
    "        commands.append(c)\n"
   ]
  },
  {
   "cell_type": "code",
   "execution_count": 254,
   "metadata": {},
   "outputs": [],
   "source": [
    "for c in commands:\n",
    "    all_flags = []\n",
    "    all_flags.extend(c[\"Flags\"])\n",
    "    del c[\"Flags\"]\n",
    "    if \"Global Flags\" in c:\n",
    "        all_flags.extend(c[\"Global Flags\"])\n",
    "        del c[\"Global Flags\"]\n",
    "\n",
    "    if all_flags != []:\n",
    "        c[\"flags_parsed\"] = []\n",
    "        for b in all_flags:\n",
    "            if match1 := re.match(\n",
    "                r\"\\s\\s+(?:-(?P<short>\\w)[,\\s]+)?(?:--(?P<long>[.\\w-]+))\\s(?:(?P<format>(uint32|ints|strings|int 64Slice|int|string|uint|float|bytesHex)))?\\s*(?P<description>.*)?\",\n",
    "                b,\n",
    "            ):\n",
    "                c[\"flags_parsed\"].append(\n",
    "                    {\n",
    "                        \"long\": match1.group(\"long\"),\n",
    "                        \"short\": match1.group(\"short\"),\n",
    "                        \"format\": match1.group(\"format\"),\n",
    "                        \"description\": match1.group(\"description\"),\n",
    "                    }\n",
    "                )\n"
   ]
  },
  {
   "cell_type": "code",
   "execution_count": 255,
   "metadata": {},
   "outputs": [],
   "source": [
    "for c in commands:\n",
    "    if len(c[\"Usage\"]) > 1:\n",
    "        print(c[\"command\"], \"command has more than 1 usages\", c[\"Usage\"])\n",
    "    else:\n",
    "        c[\"Usage\"] = c[\"Usage\"][0]\n"
   ]
  },
  {
   "cell_type": "code",
   "execution_count": 256,
   "metadata": {},
   "outputs": [
    {
     "name": "stdout",
     "output_type": "stream",
     "text": [
      "  pussy collect-gentxs [flags]\n",
      "  pussy gentx [key_name] [amount] [flags]\n",
      "  pussy init [moniker] [flags]\n",
      "  pussy migrate [target-version] [genesis-file] [flags]\n",
      "  pussy rollback [flags]\n"
     ]
    }
   ],
   "source": [
    "for entry in commands[:5]:\n",
    "    print(entry[\"Usage\"])\n"
   ]
  },
  {
   "cell_type": "code",
   "execution_count": 257,
   "metadata": {},
   "outputs": [
    {
     "data": {
      "text/plain": [
       "\"'\""
      ]
     },
     "execution_count": 257,
     "metadata": {},
     "output_type": "execute_result"
    }
   ],
   "source": [
    "usage_test = \"'--type=[hash|acc_seq|signature] [hash|acc_seq|signature]'\"\n",
    "re.sub(r\"--.*?( |=)(<|\\[).*?(>|\\])\", \"\", usage_test)[0]\n"
   ]
  },
  {
   "cell_type": "code",
   "execution_count": 258,
   "metadata": {},
   "outputs": [],
   "source": [
    "# geting rid of --flags before neccessary arg\n",
    "# cyber query tx ['--type=[hash|acc_seq|signature] [hash|acc_seq|signature]']\n",
    "\n",
    "for c in commands:\n",
    "\n",
    "    usage = c[\"Usage\"]\n",
    "    usage = usage.replace(\"[flags]\", \"\").replace(c[\"command\"], \"\")\n",
    "    usage = re.sub(r\"--.*?( |=)(<|\\[).*?(>|\\])\", \"\", usage)\n",
    "    usage = re.sub(r\"\\s+\", \" \", usage).strip()\n",
    "\n",
    "    c[\"Usage\"] = usage\n"
   ]
  },
  {
   "cell_type": "code",
   "execution_count": 259,
   "metadata": {},
   "outputs": [],
   "source": [
    "commands.sort(key=lambda x: x[\"command\"])\n"
   ]
  },
  {
   "cell_type": "code",
   "execution_count": 260,
   "metadata": {},
   "outputs": [],
   "source": [
    "# removing optional parameters in brackets ['[name] (--upgrade-height [height]) (--upgrade-info [info])']\n",
    "\n",
    "arguments = {}\n",
    "\n",
    "for c in commands:\n",
    "    clean_string = c[\"Usage\"].split(\"(\")[0]\n",
    "    arguments[c[\"command\"]] = clean_string.split(\" \")\n",
    "\n",
    "    args = re.findall(r\"(?:\\[|\\<)([\\w|\\-]+?)(?:\\]|\\>)(\\?)?\", clean_string)\n",
    "    c[\"args\"] = []\n",
    "    for p in args:\n",
    "        p = \"\".join(p)\n",
    "        p = re.sub(r\"[^A-Za-z0-9]\", \"_\", p)\n",
    "        c[\"args\"].append(p)\n"
   ]
  },
  {
   "cell_type": "code",
   "execution_count": 261,
   "metadata": {},
   "outputs": [
    {
     "data": {
      "text/plain": [
       "[{'command': 'pussy gentx',\n",
       "  'Description': ['Generate a genesis transaction that creates a validator with a self-delegation,',\n",
       "   'that is signed by the key in the Keyring referenced by a given name. A node ID and Bech32 consensus',\n",
       "   'pubkey may optionally be provided. If they are omitted, they will be retrieved from the priv_validator.json',\n",
       "   'file. The following default parameters are included:',\n",
       "   '    ',\n",
       "   '\\tdelegation amount:           100000000stake',\n",
       "   '\\tcommission rate:             0.1',\n",
       "   '\\tcommission max rate:         0.2',\n",
       "   '\\tcommission max change rate:  0.01',\n",
       "   '\\tminimum self delegation:     1'],\n",
       "  'Example': ['$ spacepussy gentx my-key-name 1000000stake --home=/path/to/home/dir --keyring-backend=os --chain-id=test-chain-1 \\\\',\n",
       "   '    --moniker=\"myvalidator\" \\\\',\n",
       "   '    --commission-max-change-rate=0.01 \\\\',\n",
       "   '    --commission-max-rate=1.0 \\\\',\n",
       "   '    --commission-rate=0.07 \\\\',\n",
       "   '    --details=\"...\" \\\\',\n",
       "   '    --security-contact=\"...\" \\\\',\n",
       "   '    --website=\"...\"'],\n",
       "  'Usage': '[key_name] [amount]',\n",
       "  'flags_parsed': [{'long': 'account-number',\n",
       "    'short': 'a',\n",
       "    'format': 'uint',\n",
       "    'description': 'The account number of the signing account (offline mode only)'},\n",
       "   {'long': 'amount',\n",
       "    'short': None,\n",
       "    'format': 'string',\n",
       "    'description': 'Amount of coins to bond'},\n",
       "   {'long': 'broadcast-mode',\n",
       "    'short': 'b',\n",
       "    'format': 'string',\n",
       "    'description': 'Transaction broadcasting mode (sync|async|block) (default \"sync\")',\n",
       "    'completions_fun': '\"nu-completions-pussy--sync-async-block-\"'},\n",
       "   {'long': 'chain-id',\n",
       "    'short': None,\n",
       "    'format': 'string',\n",
       "    'description': 'The network chain ID'},\n",
       "   {'long': 'commission-max-change-rate',\n",
       "    'short': None,\n",
       "    'format': 'string',\n",
       "    'description': 'The maximum commission change rate percentage (per day)'},\n",
       "   {'long': 'commission-max-rate',\n",
       "    'short': None,\n",
       "    'format': 'string',\n",
       "    'description': 'The maximum commission rate percentage'},\n",
       "   {'long': 'commission-rate',\n",
       "    'short': None,\n",
       "    'format': 'string',\n",
       "    'description': 'The initial commission rate percentage'},\n",
       "   {'long': 'details',\n",
       "    'short': None,\n",
       "    'format': 'string',\n",
       "    'description': \"The validator's (optional) details\"},\n",
       "   {'long': 'dry-run',\n",
       "    'short': None,\n",
       "    'format': None,\n",
       "    'description': \"ignore the --gas flag and perform a simulation of a transaction, but don't broadcast it\"},\n",
       "   {'long': 'fee-account',\n",
       "    'short': None,\n",
       "    'format': 'string',\n",
       "    'description': 'Fee account pays fees for the transaction instead of deducting from the signer'},\n",
       "   {'long': 'fees',\n",
       "    'short': None,\n",
       "    'format': 'string',\n",
       "    'description': 'Fees to pay along with transaction; eg: 10uatom'},\n",
       "   {'long': 'from',\n",
       "    'short': None,\n",
       "    'format': 'string',\n",
       "    'description': 'Name or address of private key with which to sign'},\n",
       "   {'long': 'gas',\n",
       "    'short': None,\n",
       "    'format': 'string',\n",
       "    'description': 'gas limit to set per-transaction; set to \"auto\" to calculate sufficient gas automatically (default 200000)'},\n",
       "   {'long': 'gas-adjustment',\n",
       "    'short': None,\n",
       "    'format': 'float',\n",
       "    'description': 'adjustment factor to be multiplied against the estimate returned by the tx simulation; if the gas limit is set manually this flag is ignored  (default 1)'},\n",
       "   {'long': 'gas-prices',\n",
       "    'short': None,\n",
       "    'format': 'string',\n",
       "    'description': 'Gas prices in decimal format to determine the transaction fee (e.g. 0.1uatom)'},\n",
       "   {'long': 'generate-only',\n",
       "    'short': None,\n",
       "    'format': None,\n",
       "    'description': 'Build an unsigned transaction and write it to STDOUT (when enabled, the local Keybase is not accessible)'},\n",
       "   {'long': 'help',\n",
       "    'short': 'h',\n",
       "    'format': None,\n",
       "    'description': 'help for gentx'},\n",
       "   {'long': 'identity',\n",
       "    'short': None,\n",
       "    'format': 'string',\n",
       "    'description': 'The (optional) identity signature (ex. UPort or Keybase)'},\n",
       "   {'long': 'ip',\n",
       "    'short': None,\n",
       "    'format': 'string',\n",
       "    'description': 'The node\\'s public IP (default \"10.50.1.95\")'},\n",
       "   {'long': 'keyring-backend',\n",
       "    'short': None,\n",
       "    'format': 'string',\n",
       "    'description': 'Select keyring\\'s backend (os|file|kwallet|pass|test|memory) (default \"os\")',\n",
       "    'completions_fun': '\"nu-completions-pussy--os-file-kwallet-pass-test-memory-\"'},\n",
       "   {'long': 'keyring-dir',\n",
       "    'short': None,\n",
       "    'format': 'string',\n",
       "    'description': \"The client Keyring directory; if omitted, the default 'home' directory will be used\"},\n",
       "   {'long': 'ledger',\n",
       "    'short': None,\n",
       "    'format': None,\n",
       "    'description': 'Use a connected Ledger device'},\n",
       "   {'long': 'min-self-delegation',\n",
       "    'short': None,\n",
       "    'format': 'string',\n",
       "    'description': 'The minimum self delegation required on the validator'},\n",
       "   {'long': 'moniker',\n",
       "    'short': None,\n",
       "    'format': 'string',\n",
       "    'description': \"The validator's (optional) moniker\"},\n",
       "   {'long': 'node',\n",
       "    'short': None,\n",
       "    'format': 'string',\n",
       "    'description': '<host>:<port> to tendermint rpc interface for this chain (default \"tcp://localhost:26657\")'},\n",
       "   {'long': 'node-id',\n",
       "    'short': None,\n",
       "    'format': 'string',\n",
       "    'description': \"The node's NodeID\"},\n",
       "   {'long': 'note',\n",
       "    'short': None,\n",
       "    'format': 'string',\n",
       "    'description': 'Note to add a description to the transaction (previously --memo)'},\n",
       "   {'long': 'offline',\n",
       "    'short': None,\n",
       "    'format': None,\n",
       "    'description': 'Offline mode (does not allow any online functionality'},\n",
       "   {'long': 'output',\n",
       "    'short': 'o',\n",
       "    'format': 'string',\n",
       "    'description': 'Output format (text|json) (default \"json\")',\n",
       "    'completions_fun': '\"nu-completions-pussy--text-json-\"'},\n",
       "   {'long': 'output-document',\n",
       "    'short': None,\n",
       "    'format': 'string',\n",
       "    'description': 'Write the genesis transaction JSON document to the given file instead of the default location'},\n",
       "   {'long': 'pubkey',\n",
       "    'short': None,\n",
       "    'format': 'string',\n",
       "    'description': \"The validator's Protobuf JSON encoded public key\"},\n",
       "   {'long': 'security-contact',\n",
       "    'short': None,\n",
       "    'format': 'string',\n",
       "    'description': \"The validator's (optional) security contact email\"},\n",
       "   {'long': 'sequence',\n",
       "    'short': 's',\n",
       "    'format': 'uint',\n",
       "    'description': 'The sequence number of the signing account (offline mode only)'},\n",
       "   {'long': 'sign-mode',\n",
       "    'short': None,\n",
       "    'format': 'string',\n",
       "    'description': 'Choose sign mode (direct|amino-json), this is an advanced feature',\n",
       "    'completions_fun': '\"nu-completions-pussy--direct-amino-json-\"'},\n",
       "   {'long': 'timeout-height',\n",
       "    'short': None,\n",
       "    'format': 'uint',\n",
       "    'description': 'Set a block timeout height to prevent the tx from being committed past a certain height'},\n",
       "   {'long': 'website',\n",
       "    'short': None,\n",
       "    'format': 'string',\n",
       "    'description': \"The validator's (optional) website\"},\n",
       "   {'long': 'yes',\n",
       "    'short': 'y',\n",
       "    'format': None,\n",
       "    'description': 'Skip tx broadcasting prompt confirmation'},\n",
       "   {'long': 'home',\n",
       "    'short': None,\n",
       "    'format': 'string',\n",
       "    'description': 'directory for config and data (default \"/.pussy\")'},\n",
       "   {'long': 'log_format',\n",
       "    'short': None,\n",
       "    'format': 'string',\n",
       "    'description': 'The logging format (json|plain) (default \"plain\")',\n",
       "    'completions_fun': '\"nu-completions-pussy--json-plain-\"'},\n",
       "   {'long': 'log_level',\n",
       "    'short': None,\n",
       "    'format': 'string',\n",
       "    'description': 'The logging level (trace|debug|info|warn|error|fatal|panic) (default \"info\")',\n",
       "    'completions_fun': '\"nu-completions-pussy--trace-debug-info-warn-error-fatal-panic-\"'},\n",
       "   {'long': 'trace',\n",
       "    'short': None,\n",
       "    'format': None,\n",
       "    'description': 'print out full stack trace on errors'}],\n",
       "  'args': ['key_name', 'amount']},\n",
       " {'command': 'pussy help',\n",
       "  'Description': ['Help provides help for any command in the application.',\n",
       "   'Simply type pussy help [path to command] for full details.'],\n",
       "  'Usage': '[command]',\n",
       "  'flags_parsed': [{'long': 'help',\n",
       "    'short': 'h',\n",
       "    'format': None,\n",
       "    'description': 'help for help'},\n",
       "   {'long': 'home',\n",
       "    'short': None,\n",
       "    'format': 'string',\n",
       "    'description': 'directory for config and data (default \"/.pussy\")'},\n",
       "   {'long': 'log_format',\n",
       "    'short': None,\n",
       "    'format': 'string',\n",
       "    'description': 'The logging format (json|plain) (default \"plain\")',\n",
       "    'completions_fun': '\"nu-completions-pussy--json-plain-\"'},\n",
       "   {'long': 'log_level',\n",
       "    'short': None,\n",
       "    'format': 'string',\n",
       "    'description': 'The logging level (trace|debug|info|warn|error|fatal|panic) (default \"info\")',\n",
       "    'completions_fun': '\"nu-completions-pussy--trace-debug-info-warn-error-fatal-panic-\"'},\n",
       "   {'long': 'trace',\n",
       "    'short': None,\n",
       "    'format': None,\n",
       "    'description': 'print out full stack trace on errors'}],\n",
       "  'args': ['command']},\n",
       " {'command': 'pussy init',\n",
       "  'Description': [\"Initialize validators's and node's configuration files.\"],\n",
       "  'Usage': '[moniker]',\n",
       "  'flags_parsed': [{'long': 'chain-id',\n",
       "    'short': None,\n",
       "    'format': 'string',\n",
       "    'description': 'genesis file chain-id, if left blank will be randomly created'},\n",
       "   {'long': 'help',\n",
       "    'short': 'h',\n",
       "    'format': None,\n",
       "    'description': 'help for init'},\n",
       "   {'long': 'overwrite',\n",
       "    'short': 'o',\n",
       "    'format': None,\n",
       "    'description': 'overwrite the genesis.json file'},\n",
       "   {'long': 'recover',\n",
       "    'short': None,\n",
       "    'format': None,\n",
       "    'description': 'provide seed phrase to recover existing key instead of creating'},\n",
       "   {'long': 'home',\n",
       "    'short': None,\n",
       "    'format': 'string',\n",
       "    'description': 'directory for config and data (default \"/.pussy\")'},\n",
       "   {'long': 'log_format',\n",
       "    'short': None,\n",
       "    'format': 'string',\n",
       "    'description': 'The logging format (json|plain) (default \"plain\")',\n",
       "    'completions_fun': '\"nu-completions-pussy--json-plain-\"'},\n",
       "   {'long': 'log_level',\n",
       "    'short': None,\n",
       "    'format': 'string',\n",
       "    'description': 'The logging level (trace|debug|info|warn|error|fatal|panic) (default \"info\")',\n",
       "    'completions_fun': '\"nu-completions-pussy--trace-debug-info-warn-error-fatal-panic-\"'},\n",
       "   {'long': 'trace',\n",
       "    'short': None,\n",
       "    'format': None,\n",
       "    'description': 'print out full stack trace on errors'}],\n",
       "  'args': ['moniker']}]"
      ]
     },
     "execution_count": 261,
     "metadata": {},
     "output_type": "execute_result"
    }
   ],
   "source": [
    "def make_fun_name(text: str):\n",
    "    rsub = re.sub(r\"([^a-z])\", \"-\", text)\n",
    "    return f'\"nu-completions-{exec_name}-{rsub}\"'\n",
    "\n",
    "\n",
    "completions_list = []\n",
    "\n",
    "for c in commands:\n",
    "    for f in c[\"flags_parsed\"]:\n",
    "        if m := re.search(r\"(\\(.*\\|.*?\\))\", f[\"description\"]):\n",
    "            completions_list.append(m[0])\n",
    "            f[\"completions_fun\"] = make_fun_name(m[0])\n",
    "\n",
    "\n",
    "commands[7:10]\n"
   ]
  },
  {
   "cell_type": "code",
   "execution_count": 262,
   "metadata": {},
   "outputs": [],
   "source": [
    "\n",
    "nu_functions_list = []\n",
    "\n",
    "for i in set(completions_list):\n",
    "    fun_list = (\n",
    "        i.replace(\" \", \"\")\n",
    "        .replace(\"(\", '{ [\"')\n",
    "        .replace(\"|\", '\", \"')\n",
    "        .replace(\")\", '\"] }')\n",
    "    )\n",
    "    fun_name = make_fun_name(i)\n",
    "    fun_complete = f\"def {fun_name} [] {fun_list}\"\n",
    "    nu_functions_list.append(fun_complete)\n",
    "\n",
    "nu_completions_functions_string = \"\\n\".join(nu_functions_list)\n"
   ]
  },
  {
   "cell_type": "code",
   "execution_count": 263,
   "metadata": {},
   "outputs": [
    {
     "data": {
      "text/plain": [
       "['(os|file|kwallet|pass|test)']"
      ]
     },
     "execution_count": 263,
     "metadata": {},
     "output_type": "execute_result"
    }
   ],
   "source": [
    "re.findall(\n",
    "    r\"(\\(.*\\|.*?\\))\",\n",
    "    'Select keyring\\'s backend (os|file|kwallet|pass|test) (default \"os\")',\n",
    ")\n"
   ]
  },
  {
   "cell_type": "code",
   "execution_count": 264,
   "metadata": {},
   "outputs": [],
   "source": [
    "# df = pd.DataFrame(commands)\n",
    "# pd.json_normalize(df['flags_parsed'])\n"
   ]
  },
  {
   "cell_type": "code",
   "execution_count": 265,
   "metadata": {},
   "outputs": [],
   "source": [
    "# df = pd.DataFrame(commands).explode('flags_parsed').reset_index()\n",
    "# df['command'] = df['command'].apply(lambda x: str(x))\n",
    "# df2 = pd.json_normalize(df['flags_parsed'])\n",
    "\n",
    "# df3 = pd.concat([df[['command', 'Usage']], df2], axis=1)\n",
    "# xw.view(df3)\n"
   ]
  },
  {
   "cell_type": "code",
   "execution_count": 266,
   "metadata": {},
   "outputs": [],
   "source": [
    "# for_excel = pd.DataFrame(data=commands).applymap(lambda x: str(x))\n",
    "# xw.view(for_excel)\n"
   ]
  },
  {
   "cell_type": "code",
   "execution_count": 267,
   "metadata": {},
   "outputs": [],
   "source": [
    "# for i in all_commands:\n",
    "#     print(i[\"command\"], \"\\n\", i[\"flags_parsed\"])\n"
   ]
  },
  {
   "cell_type": "code",
   "execution_count": 268,
   "metadata": {},
   "outputs": [],
   "source": [
    "types_nu_dict = {\n",
    "    \"uint\": \"int\",\n",
    "    \"uint32\": \"int\",\n",
    "    # \"float\": \"decimal\",\n",
    "    \"float\": \"string\",\n",
    "    \"strings\": \"string\",\n",
    "    \"bytesHex\": \"string\",\n",
    "    \"ints\": \"string\",\n",
    "}\n",
    "\n",
    "get_keys_table = f\"{exec_name} _keys table\"\n",
    "get_key_address = f\"{exec_name} _keys values\"\n",
    "\n",
    "# nu functions to add at the beginning of the file\n",
    "functions_list = f\"\"\"\n",
    "export def \"{get_keys_table}\" [] {{\n",
    "\t{exec_name} keys list | lines | window 5 -s 5 | \n",
    "    each {{|it| ($it| parse -r '(?P<col>\\w+):(?P<value>.*)')}} | \n",
    "    each {{|it| ($it| transpose -r)}} | reduce {{|it, acc| $it | append $acc}} | \n",
    "    select name type address \n",
    "}}\n",
    "\n",
    "export def \"nu-complete {get_key_address}\" [] {{\n",
    "    ({get_keys_table}).name | zip ({get_keys_table}).address | flatten\n",
    "  }}\n",
    "\n",
    "\"\"\"\n",
    "\n",
    "lines = [functions_list, nu_completions_functions_string, \"\\n\"]\n",
    "\n",
    "for c in commands:\n",
    "    description = \" \".join(c[\"Description\"])[:400]\n",
    "\n",
    "    lines.append(f\"\\n# {description}\\nexport extern '{c['command']}' [\\n\")\n",
    "\n",
    "    for arg in c[\"args\"]:\n",
    "        lines.append(f\"\\t{arg}: string\\n\")\n",
    "\n",
    "    for flags in c[\"flags_parsed\"]:\n",
    "        if \".\" not in flags[\"long\"]:\n",
    "            long = flags[\"long\"]\n",
    "            short = \"(-\" + flags[\"short\"] + \")\" if flags[\"short\"] else \"\"\n",
    "            f1 = types_nu_dict.get(flags[\"format\"], flags[\"format\"])\n",
    "            if \"completions_fun\" in flags:\n",
    "                f1 = f1 + \"@\" + flags[\"completions_fun\"]\n",
    "            format = \": \" + f1 if f1 else \"\"\n",
    "            description = flags[\"description\"]\n",
    "            lines.append(f\"\\t--{long}{short}{format}\\t\\t# {description}\\n\")\n",
    "    lines.append(\"]\\n\")\n",
    "\n",
    "# lines.append(\"\\n}\")\n",
    "\n",
    "lines = [\n",
    "    l.replace(\"--from: string\", f'--from: string@\"nu-complete {get_key_address}\"')\n",
    "    for l in lines\n",
    "]\n",
    "\n",
    "\n",
    "with open(dir + exec_name + \"_nu_completions.nu\", \"w\") as file:\n",
    "    file.writelines(lines)\n"
   ]
  },
  {
   "cell_type": "code",
   "execution_count": null,
   "metadata": {},
   "outputs": [],
   "source": []
  },
  {
   "cell_type": "code",
   "execution_count": null,
   "metadata": {},
   "outputs": [],
   "source": []
  },
  {
   "cell_type": "code",
   "execution_count": null,
   "metadata": {},
   "outputs": [],
   "source": []
  }
 ],
 "metadata": {
  "kernelspec": {
   "display_name": "Python 3.9.13 ('cyber')",
   "language": "python",
   "name": "python3"
  },
  "language_info": {
   "codemirror_mode": {
    "name": "ipython",
    "version": 3
   },
   "file_extension": ".py",
   "mimetype": "text/x-python",
   "name": "python",
   "nbconvert_exporter": "python",
   "pygments_lexer": "ipython3",
   "version": "3.9.13"
  },
  "orig_nbformat": 4,
  "vscode": {
   "interpreter": {
    "hash": "6a2e55f4a39c0f335f57965825687bdfac515b1a5fa93a558f4b981305a5a56e"
   }
  }
 },
 "nbformat": 4,
 "nbformat_minor": 2
}
