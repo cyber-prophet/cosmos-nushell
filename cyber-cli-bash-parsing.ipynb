{
 "cells": [
  {
   "cell_type": "code",
   "execution_count": null,
   "metadata": {},
   "outputs": [],
   "source": [
    "import re\n",
    "import subprocess\n",
    "import os\n",
    "import json\n",
    "\n",
    "import pandas as pd\n",
    "\n",
    "# import xlwings as xw\n"
   ]
  },
  {
   "cell_type": "code",
   "execution_count": null,
   "metadata": {},
   "outputs": [],
   "source": [
    "exec_name = \"pussy\"\n",
    "dir = \"out/\" + exec_name + \"/\"\n",
    "dir_md = dir + \"commands-md-files/\"\n"
   ]
  },
  {
   "cell_type": "code",
   "execution_count": null,
   "metadata": {},
   "outputs": [],
   "source": [
    "if not os.path.isdir(dir):\n",
    "    os.mkdir(dir)\n",
    "\n",
    "if not os.path.isdir(dir_md):\n",
    "    os.mkdir(dir_md)\n",
    "\n",
    "for f in os.listdir(dir_md):\n",
    "    os.remove(os.path.join(dir_md, f))\n"
   ]
  },
  {
   "cell_type": "code",
   "execution_count": null,
   "metadata": {},
   "outputs": [],
   "source": [
    "chapters_to_include = [\n",
    "    \"Available Commands:\",\n",
    "    \"Usage:\",\n",
    "    \"Aliases:\",\n",
    "    \"Flags:\",\n",
    "    \"Global Flags:\",\n",
    "    \"Example:\",\n",
    "    \"Examples:\",\n",
    "]\n"
   ]
  },
  {
   "cell_type": "code",
   "execution_count": null,
   "metadata": {},
   "outputs": [],
   "source": [
    "def get_cli_output(command: str, exec_path: str = \"/Users/user/go/bin\"):\n",
    "\n",
    "    _args = command.split()\n",
    "    _args.append(\"-h\")\n",
    "\n",
    "    out = subprocess.run(_args, capture_output=True, env=dict(PATH=exec_path, HOME='/Users/user/'))\n",
    "    text = out.stdout.decode(\"utf-8\") + out.stderr.decode(\"utf-8\")\n",
    "\n",
    "    with open(dir_md + command + \".md\", \"w\") as file:\n",
    "        file.write(text)\n",
    "\n",
    "    return text\n",
    "\n",
    "\n",
    "# text = get_cli_output('cyber')\n"
   ]
  },
  {
   "cell_type": "code",
   "execution_count": null,
   "metadata": {},
   "outputs": [],
   "source": [
    "def parse_cli_stdout(command: str):\n",
    "\n",
    "    _text = get_cli_output(command)\n",
    "    _lines = _text.split(\"\\n\")\n",
    "\n",
    "    chapters = {\"command\": command}\n",
    "    chapter = \"Description\"\n",
    "    chapters[chapter] = []\n",
    "\n",
    "    for l in _lines:\n",
    "        if l != \"\":\n",
    "            if l in chapters_to_include:\n",
    "                chapter = l[:-1]  # cutting \":\"\n",
    "                chapters[chapter] = []\n",
    "            else:\n",
    "                chapters[chapter].append(l)\n",
    "\n",
    "    return chapters\n",
    "\n",
    "\n",
    "# chapters = parse_cli_stdout(\"osmosisd query evidence\")\n",
    "# print(chapters)\n"
   ]
  },
  {
   "cell_type": "code",
   "execution_count": null,
   "metadata": {},
   "outputs": [],
   "source": [
    "def get_sub_commands(chapters):\n",
    "    new_commands = []\n",
    "\n",
    "    if \"Available Commands\" in chapters:\n",
    "        for l in chapters[\"Available Commands\"]:\n",
    "            if _match := re.search(r\"^\\s+(.*?)\\s+(.*)\", l):\n",
    "                sub_command = _match.group(1)\n",
    "\n",
    "                command_candidate = \" \".join(\n",
    "                    (chapters[\"command\"] + \" \" + sub_command).split()\n",
    "                )\n",
    "                new_commands.append(command_candidate)\n",
    "\n",
    "    return new_commands\n",
    "\n",
    "\n",
    "# new_commands = get_sub_commands(chapters)\n",
    "# new_commands\n"
   ]
  },
  {
   "cell_type": "code",
   "execution_count": null,
   "metadata": {},
   "outputs": [],
   "source": [
    "parsed_commands = []\n",
    "all_commands = []\n",
    "new_commands = [exec_name + \" \"]\n",
    "\n",
    "while True:\n",
    "    for command in new_commands:\n",
    "\n",
    "        commands_dict = parse_cli_stdout(command)\n",
    "        new_command_candidates = get_sub_commands(commands_dict)\n",
    "        all_commands.append(commands_dict)\n",
    "\n",
    "        for candidate in new_command_candidates:\n",
    "            if candidate not in parsed_commands:\n",
    "                new_commands.append(candidate)\n",
    "                parsed_commands.append(candidate)\n",
    "        new_commands.remove(command)\n",
    "    if new_commands == []:\n",
    "        break\n"
   ]
  },
  {
   "cell_type": "code",
   "execution_count": null,
   "metadata": {},
   "outputs": [],
   "source": [
    "# all_commands\n"
   ]
  },
  {
   "cell_type": "code",
   "execution_count": null,
   "metadata": {},
   "outputs": [],
   "source": [
    "json_object = json.dumps(all_commands, indent=4)\n",
    "\n",
    "with open(dir + exec_name + \"_commands.json\", \"w\") as outfile:\n",
    "    outfile.write(json_object)\n"
   ]
  },
  {
   "cell_type": "code",
   "execution_count": null,
   "metadata": {},
   "outputs": [],
   "source": [
    "len(all_commands)\n"
   ]
  },
  {
   "cell_type": "code",
   "execution_count": null,
   "metadata": {},
   "outputs": [],
   "source": [
    "command_files = []\n",
    "\n",
    "for f in os.listdir(dir_md):\n",
    "    if f[-3:] == \".md\":\n",
    "        command_files.append(f)\n",
    "\n",
    "command_files.sort()\n",
    "# command_files\n"
   ]
  },
  {
   "cell_type": "code",
   "execution_count": null,
   "metadata": {},
   "outputs": [],
   "source": [
    "if os.path.exists(dir + exec_name + \"_commands.md\"):\n",
    "    os.remove(dir + exec_name + \"_commands.md\")\n",
    "\n",
    "for f in command_files:\n",
    "    with open(dir_md + f) as f2:\n",
    "        text = f2.read()\n",
    "        file_content = f\"### {f[:-3]}\\n\\n```\\n{text}\\n```\\n\\n\"\n",
    "\n",
    "        with open(dir + exec_name + \"_commands.md\", \"a\") as file:\n",
    "            file.write(file_content)\n"
   ]
  },
  {
   "cell_type": "code",
   "execution_count": null,
   "metadata": {},
   "outputs": [],
   "source": [
    "# with open(\"all_commands.json\", \"r\") as file:\n",
    "#     all_commands = json.load(file)\n"
   ]
  },
  {
   "cell_type": "code",
   "execution_count": null,
   "metadata": {},
   "outputs": [],
   "source": [
    "commands = []\n",
    "\n",
    "for c in all_commands:\n",
    "    if \"Available Commands\" not in c:\n",
    "        commands.append(c)\n"
   ]
  },
  {
   "cell_type": "code",
   "execution_count": null,
   "metadata": {},
   "outputs": [],
   "source": [
    "commands"
   ]
  },
  {
   "cell_type": "code",
   "execution_count": null,
   "metadata": {},
   "outputs": [],
   "source": [
    "# catching bug with the command 'query evidence' https://github.com/cosmos/cosmos-sdk/issues/13444\n",
    "\n",
    "for c in commands:\n",
    "    descript = c['Description']\n",
    "    if len(descript) > 0:\n",
    "        if descript[0].startswith('Error: '):\n",
    "            print('found it')\n",
    "            commands.remove(c)"
   ]
  },
  {
   "cell_type": "code",
   "execution_count": null,
   "metadata": {},
   "outputs": [],
   "source": [
    "for c in commands:\n",
    "    all_flags = []\n",
    "    all_flags.extend(c[\"Flags\"])\n",
    "    del c[\"Flags\"]\n",
    "    if \"Global Flags\" in c:\n",
    "        all_flags.extend(c[\"Global Flags\"])\n",
    "        del c[\"Global Flags\"]\n",
    "\n",
    "    if all_flags != []:\n",
    "        c[\"flags_parsed\"] = []\n",
    "        for b in all_flags:\n",
    "            if match1 := re.match(\n",
    "                r\"\\s\\s+(?:-(?P<short>\\w)[,\\s]+)?(?:--(?P<long>[.\\w-]+))\\s(?:(?P<format>(uint32|ints|strings|int 64Slice|int|string|uint|float|bytesHex)))?\\s*(?P<description>.*)?\",\n",
    "                b,\n",
    "            ):\n",
    "                c[\"flags_parsed\"].append(\n",
    "                    {\n",
    "                        \"long\": match1.group(\"long\"),\n",
    "                        \"short\": match1.group(\"short\"),\n",
    "                        \"format\": match1.group(\"format\"),\n",
    "                        \"description\": match1.group(\"description\"),\n",
    "                    }\n",
    "                )\n"
   ]
  },
  {
   "cell_type": "code",
   "execution_count": null,
   "metadata": {},
   "outputs": [],
   "source": [
    "for c in commands:\n",
    "    if len(c[\"Usage\"]) > 1:\n",
    "        print(c[\"command\"], \"command has more than 1 usages\", c[\"Usage\"])\n",
    "    else:\n",
    "        c[\"Usage\"] = c[\"Usage\"][0]\n"
   ]
  },
  {
   "cell_type": "code",
   "execution_count": null,
   "metadata": {},
   "outputs": [],
   "source": [
    "for entry in commands[:5]:\n",
    "    print(entry[\"Usage\"])\n"
   ]
  },
  {
   "cell_type": "code",
   "execution_count": null,
   "metadata": {},
   "outputs": [],
   "source": [
    "usage_test = \"'--type=[hash|acc_seq|signature] [hash|acc_seq|signature]'\"\n",
    "re.sub(r\"--.*?( |=)(<|\\[).*?(>|\\])\", \"\", usage_test)[0]\n"
   ]
  },
  {
   "cell_type": "code",
   "execution_count": null,
   "metadata": {},
   "outputs": [],
   "source": [
    "# geting rid of --flags before neccessary arg\n",
    "# cyber query tx ['--type=[hash|acc_seq|signature] [hash|acc_seq|signature]']\n",
    "\n",
    "for c in commands:\n",
    "\n",
    "    usage = c[\"Usage\"]\n",
    "    usage = usage.replace(\"[flags]\", \"\").replace(c[\"command\"], \"\")\n",
    "    usage = re.sub(r\"--.*?( |=)(<|\\[).*?(>|\\])\", \"\", usage)\n",
    "    usage = re.sub(r\"\\s+\", \" \", usage).strip()\n",
    "\n",
    "    c[\"Usage\"] = usage\n"
   ]
  },
  {
   "cell_type": "code",
   "execution_count": null,
   "metadata": {},
   "outputs": [],
   "source": [
    "commands.sort(key=lambda x: x[\"command\"])\n"
   ]
  },
  {
   "cell_type": "code",
   "execution_count": null,
   "metadata": {},
   "outputs": [],
   "source": [
    "# removing optional parameters in brackets ['[name] (--upgrade-height [height]) (--upgrade-info [info])']\n",
    "\n",
    "arguments = {}\n",
    "\n",
    "for c in commands:\n",
    "    clean_string = c[\"Usage\"].split(\"(\")[0]\n",
    "    arguments[c[\"command\"]] = clean_string.split(\" \")\n",
    "\n",
    "    args = re.findall(r\"(?:\\[|\\<)([\\w|\\-]+?)(?:\\]|\\>)(\\?)?\", clean_string)\n",
    "    c[\"args\"] = []\n",
    "    for p in args:\n",
    "        p = \"\".join(p)\n",
    "        p = re.sub(r\"[^A-Za-z0-9]\", \"_\", p)\n",
    "        c[\"args\"].append(p)\n"
   ]
  },
  {
   "cell_type": "code",
   "execution_count": null,
   "metadata": {},
   "outputs": [],
   "source": [
    "def make_fun_name(text: str):\n",
    "    rsub = re.sub(r\"([^a-z])\", \"-\", text)\n",
    "    return f'\"nu-completions-{exec_name}-{rsub}\"'\n",
    "\n",
    "\n",
    "completions_list = []\n",
    "\n",
    "for c in commands:\n",
    "    for f in c[\"flags_parsed\"]:\n",
    "        if m := re.search(r\"(\\(.*\\|.*?\\))\", f[\"description\"]):\n",
    "            completions_list.append(m[0])\n",
    "            f[\"completions_fun\"] = make_fun_name(m[0])\n",
    "\n",
    "\n",
    "commands[7:10]\n"
   ]
  },
  {
   "cell_type": "code",
   "execution_count": null,
   "metadata": {},
   "outputs": [],
   "source": [
    "\n",
    "nu_functions_list = []\n",
    "\n",
    "for i in set(completions_list):\n",
    "    fun_list = (\n",
    "        i.replace(\" \", \"\")\n",
    "        .replace(\"(\", '{ [\"')\n",
    "        .replace(\"|\", '\", \"')\n",
    "        .replace(\")\", '\"] }')\n",
    "    )\n",
    "    fun_name = make_fun_name(i)\n",
    "    fun_complete = f\"def {fun_name} [] {fun_list}\"\n",
    "    nu_functions_list.append(fun_complete)\n",
    "\n",
    "nu_completions_functions_string = \"\\n\".join(nu_functions_list)\n"
   ]
  },
  {
   "cell_type": "code",
   "execution_count": null,
   "metadata": {},
   "outputs": [],
   "source": [
    "re.findall(\n",
    "    r\"(\\(.*\\|.*?\\))\",\n",
    "    'Select keyring\\'s backend (os|file|kwallet|pass|test) (default \"os\")',\n",
    ")\n"
   ]
  },
  {
   "cell_type": "code",
   "execution_count": null,
   "metadata": {},
   "outputs": [],
   "source": [
    "# df = pd.DataFrame(commands)\n",
    "# pd.json_normalize(df['flags_parsed'])\n"
   ]
  },
  {
   "cell_type": "code",
   "execution_count": null,
   "metadata": {},
   "outputs": [],
   "source": [
    "# df = pd.DataFrame(commands).explode('flags_parsed').reset_index()\n",
    "# df['command'] = df['command'].apply(lambda x: str(x))\n",
    "# df2 = pd.json_normalize(df['flags_parsed'])\n",
    "\n",
    "# df3 = pd.concat([df[['command', 'Usage']], df2], axis=1)\n",
    "# xw.view(df3)\n"
   ]
  },
  {
   "cell_type": "code",
   "execution_count": null,
   "metadata": {},
   "outputs": [],
   "source": [
    "# for_excel = pd.DataFrame(data=commands).applymap(lambda x: str(x))\n",
    "# xw.view(for_excel)\n"
   ]
  },
  {
   "cell_type": "code",
   "execution_count": null,
   "metadata": {},
   "outputs": [],
   "source": [
    "# for i in all_commands:\n",
    "#     print(i[\"command\"], \"\\n\", i[\"flags_parsed\"])\n"
   ]
  },
  {
   "cell_type": "code",
   "execution_count": null,
   "metadata": {},
   "outputs": [],
   "source": [
    "types_nu_dict = {\n",
    "    \"uint\": \"int\",\n",
    "    \"uint32\": \"int\",\n",
    "    # \"float\": \"decimal\",\n",
    "    \"float\": \"string\",\n",
    "    \"strings\": \"string\",\n",
    "    \"bytesHex\": \"string\",\n",
    "    \"ints\": \"string\",\n",
    "}\n",
    "\n",
    "get_keys_table = f\"{exec_name} _keys table\"\n",
    "get_key_address = f\"{exec_name} _keys values\"\n",
    "\n",
    "# nu functions to add at the beginning of the file\n",
    "functions_list = f\"\"\"\n",
    "\n",
    "# {exec_name} keys in a form of table\n",
    "export def \"{get_keys_table}\" [] {{\n",
    "\t{exec_name} keys list --output text | lines | window 5 -s 5 | \n",
    "    each {{|it| ($it| parse -r '(?P<col>\\w+):(?P<value>.*)')}} | \n",
    "    each {{|it| ($it| transpose -r)}} | reduce {{|it, acc| $it | append $acc}} | \n",
    "    select name type address \n",
    "}}\n",
    "\n",
    "# Helper function to use addresses for completions in --from parameter\n",
    "export def \"nu-complete {get_key_address}\" [] {{\n",
    "    ({get_keys_table}).name | zip ({get_keys_table}).address | flatten\n",
    "  }}\n",
    "\n",
    "\"\"\"\n",
    "\n",
    "lines = [functions_list, nu_completions_functions_string, \"\\n\"]\n",
    "\n",
    "for c in commands:\n",
    "    description = \" \".join(c[\"Description\"])[:400]\n",
    "\n",
    "    lines.append(f\"\\n# {description}\\nexport extern '{c['command']}' [\\n\")\n",
    "\n",
    "    for arg in c[\"args\"]:\n",
    "        lines.append(f\"\\t{arg}?: string\\n\")\n",
    "\n",
    "    for flags in c[\"flags_parsed\"]:\n",
    "        if \".\" not in flags[\"long\"]:\n",
    "            long = flags[\"long\"]\n",
    "            short = \"(-\" + flags[\"short\"] + \")\" if flags[\"short\"] else \"\"\n",
    "            f1 = types_nu_dict.get(flags[\"format\"], flags[\"format\"])\n",
    "            if \"completions_fun\" in flags:\n",
    "                f1 = f1 + \"@\" + flags[\"completions_fun\"]\n",
    "            format = \": \" + f1 if f1 else \"\"\n",
    "            description = flags[\"description\"]\n",
    "            lines.append(f\"\\t--{long}{short}{format}\\t\\t# {description}\\n\")\n",
    "    lines.append(\"]\\n\")\n",
    "\n",
    "# lines.append(\"\\n}\")\n",
    "\n",
    "lines = [\n",
    "    l.replace(\"--from: string\", f'--from: string@\"nu-complete {get_key_address}\"')\n",
    "    for l in lines\n",
    "]\n",
    "\n",
    "\n",
    "with open(dir + exec_name + \"_nu_completions.nu\", \"w\") as file:\n",
    "    file.writelines(lines)\n"
   ]
  }
 ],
 "metadata": {
  "kernelspec": {
   "display_name": "Python 3.9.13 ('cyber')",
   "language": "python",
   "name": "python3"
  },
  "language_info": {
   "codemirror_mode": {
    "name": "ipython",
    "version": 3
   },
   "file_extension": ".py",
   "mimetype": "text/x-python",
   "name": "python",
   "nbconvert_exporter": "python",
   "pygments_lexer": "ipython3",
   "version": "3.9.13"
  },
  "orig_nbformat": 4,
  "vscode": {
   "interpreter": {
    "hash": "6a2e55f4a39c0f335f57965825687bdfac515b1a5fa93a558f4b981305a5a56e"
   }
  }
 },
 "nbformat": 4,
 "nbformat_minor": 2
}
