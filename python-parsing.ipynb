{
 "cells": [
  {
   "cell_type": "code",
   "execution_count": 1,
   "metadata": {},
   "outputs": [],
   "source": [
    "import re\n",
    "import subprocess\n",
    "import os\n",
    "import json\n"
   ]
  },
  {
   "cell_type": "code",
   "execution_count": 2,
   "metadata": {},
   "outputs": [],
   "source": [
    "path = \"/Users/user/apps-files/github/cyber_completitions/text-files/\"\n",
    "os.chdir(path)\n"
   ]
  },
  {
   "cell_type": "code",
   "execution_count": 3,
   "metadata": {},
   "outputs": [],
   "source": [
    "parsed_commands = []\n",
    "\n",
    "chapters_to_include = [\n",
    "    \"Available Commands:\",\n",
    "    \"Usage:\",\n",
    "    \"Aliases:\",\n",
    "    \"Flags:\",\n",
    "    \"Global Flags:\",\n",
    "    \"Example:\",\n",
    "]\n"
   ]
  },
  {
   "cell_type": "code",
   "execution_count": 4,
   "metadata": {},
   "outputs": [
    {
     "data": {
      "text/plain": [
       "['Bostrom Bootloader Hub',\n",
       " '',\n",
       " 'Usage:',\n",
       " '  cyber [command]',\n",
       " '',\n",
       " 'Available Commands:',\n",
       " '  add-genesis-account Add a genesis account to genesis.json',\n",
       " '  collect-gentxs      Collect genesis txs and output a genesis.json file',\n",
       " '  config              Create or query an application CLI configuration file',\n",
       " '  debug               Tool for helping with debugging your application',\n",
       " '  export              Export state to JSON',\n",
       " '  gentx               Generate a genesis tx carrying a self delegation',\n",
       " '  help                Help about any command',\n",
       " '  init                Initialize private validator, p2p, genesis, and application configuration files',\n",
       " \"  keys                Manage your application's keys\",\n",
       " '  migrate             Migrate genesis to a specified target version',\n",
       " '  query               Querying subcommands',\n",
       " '  rollback            rollback cosmos-sdk and tendermint state by one height',\n",
       " '  start               Run the full node',\n",
       " '  status              Query remote node for status',\n",
       " '  tendermint          Tendermint subcommands',\n",
       " '  testnet             Initialize files for a simapp testnet',\n",
       " '  tx                  Transactions subcommands',\n",
       " '  validate-genesis    validates the genesis file at the default location or at the location passed as an arg',\n",
       " '  version             Print the application binary version information',\n",
       " '',\n",
       " 'Flags:',\n",
       " '  -h, --help                help for cyber',\n",
       " '      --home string         directory for config and data (default \"/Users/user/.cyber\")',\n",
       " '      --log_format string   The logging format (json|plain) (default \"plain\")',\n",
       " '      --log_level string    The logging level (trace|debug|info|warn|error|fatal|panic) (default \"info\")',\n",
       " '      --trace               print out full stack trace on errors',\n",
       " '',\n",
       " 'Use \"cyber [command] --help\" for more information about a command.',\n",
       " '']"
      ]
     },
     "execution_count": 4,
     "metadata": {},
     "output_type": "execute_result"
    }
   ],
   "source": [
    "def get_cli_output(command: str):\n",
    "\n",
    "    _args = command.split()\n",
    "    _args.append(\"-h\")\n",
    "\n",
    "    _out = subprocess.run(_args, capture_output=True)\n",
    "    _text = _out.stdout.decode(\"utf-8\") + _out.stderr.decode(\"utf-8\")\n",
    "\n",
    "    # with open(command + \".txt\", 'w') as file:\n",
    "    #     file.write(_text)\n",
    "\n",
    "    # # file_content = f\"### {command}\\n\\n```\\n{_text}\\n```\\n\\n\"\n",
    "\n",
    "    # with open(\"all_commands2.md\", 'a') as file:\n",
    "    #     file.write(file_content)\n",
    "\n",
    "    _lines = _text.split(\"\\n\")\n",
    "    return _lines, command\n",
    "\n",
    "\n",
    "_lines, command = get_cli_output(\"cyber\")\n",
    "_lines\n"
   ]
  },
  {
   "cell_type": "code",
   "execution_count": 5,
   "metadata": {},
   "outputs": [
    {
     "data": {
      "text/plain": [
       "([\"Error: invalid evidence hash: encoding/hex: invalid byte: U+002D '-'\",\n",
       "  'Usage:',\n",
       "  '  cyber query evidence [flags]',\n",
       "  '',\n",
       "  'Flags:',\n",
       "  '      --count-total       count total number of records in evidence to query for',\n",
       "  '      --height int        Use a specific height to query state at (this can error if the node is pruning state)',\n",
       "  '  -h, --help              help for evidence',\n",
       "  '      --limit uint        pagination limit of evidence to query for (default 100)',\n",
       "  '      --node string       <host>:<port> to Tendermint RPC interface for this chain (default \"tcp://localhost:26657\")',\n",
       "  '      --offset uint       pagination offset of evidence to query for',\n",
       "  '  -o, --output string     Output format (text|json) (default \"text\")',\n",
       "  '      --page uint         pagination page of evidence to query for. This sets offset to a multiple of limit (default 1)',\n",
       "  '      --page-key string   pagination page-key of evidence to query for',\n",
       "  '      --reverse           results are sorted in descending order',\n",
       "  '',\n",
       "  'Global Flags:',\n",
       "  '      --chain-id string     The network chain ID',\n",
       "  '      --home string         directory for config and data (default \"/Users/user/.cyber\")',\n",
       "  '      --log_format string   The logging format (json|plain) (default \"plain\")',\n",
       "  '      --log_level string    The logging level (trace|debug|info|warn|error|fatal|panic) (default \"info\")',\n",
       "  '      --trace               print out full stack trace on errors',\n",
       "  '',\n",
       "  ''],\n",
       " 'cyber query evidence')"
      ]
     },
     "execution_count": 5,
     "metadata": {},
     "output_type": "execute_result"
    }
   ],
   "source": [
    "get_cli_output(\"cyber query evidence\")\n"
   ]
  },
  {
   "cell_type": "code",
   "execution_count": 6,
   "metadata": {},
   "outputs": [
    {
     "data": {
      "text/plain": [
       "{'command': 'cyber',\n",
       " 'Title': ['Bostrom Bootloader Hub'],\n",
       " 'Usage': ['  cyber [command]'],\n",
       " 'Available Commands': ['  add-genesis-account Add a genesis account to genesis.json',\n",
       "  '  collect-gentxs      Collect genesis txs and output a genesis.json file',\n",
       "  '  config              Create or query an application CLI configuration file',\n",
       "  '  debug               Tool for helping with debugging your application',\n",
       "  '  export              Export state to JSON',\n",
       "  '  gentx               Generate a genesis tx carrying a self delegation',\n",
       "  '  help                Help about any command',\n",
       "  '  init                Initialize private validator, p2p, genesis, and application configuration files',\n",
       "  \"  keys                Manage your application's keys\",\n",
       "  '  migrate             Migrate genesis to a specified target version',\n",
       "  '  query               Querying subcommands',\n",
       "  '  rollback            rollback cosmos-sdk and tendermint state by one height',\n",
       "  '  start               Run the full node',\n",
       "  '  status              Query remote node for status',\n",
       "  '  tendermint          Tendermint subcommands',\n",
       "  '  testnet             Initialize files for a simapp testnet',\n",
       "  '  tx                  Transactions subcommands',\n",
       "  '  validate-genesis    validates the genesis file at the default location or at the location passed as an arg',\n",
       "  '  version             Print the application binary version information'],\n",
       " 'Flags': ['  -h, --help                help for cyber',\n",
       "  '      --home string         directory for config and data (default \"/Users/user/.cyber\")',\n",
       "  '      --log_format string   The logging format (json|plain) (default \"plain\")',\n",
       "  '      --log_level string    The logging level (trace|debug|info|warn|error|fatal|panic) (default \"info\")',\n",
       "  '      --trace               print out full stack trace on errors',\n",
       "  'Use \"cyber [command] --help\" for more information about a command.']}"
      ]
     },
     "execution_count": 6,
     "metadata": {},
     "output_type": "execute_result"
    }
   ],
   "source": [
    "def parse_chapters(_lines: list, command):\n",
    "\n",
    "    chapters = {}\n",
    "    chapters[\"command\"] = command\n",
    "    chapter = \"Title\"\n",
    "    chapters[chapter] = []\n",
    "\n",
    "    for l in _lines:\n",
    "        if l != \"\":\n",
    "            if l in chapters_to_include:\n",
    "                chapter = l[:-1]\n",
    "                chapters[chapter] = []\n",
    "            else:\n",
    "                chapters[chapter].append(l)\n",
    "\n",
    "    return chapters\n",
    "\n",
    "\n",
    "chapters = parse_chapters(_lines, command)\n",
    "chapters\n"
   ]
  },
  {
   "cell_type": "code",
   "execution_count": 7,
   "metadata": {},
   "outputs": [
    {
     "data": {
      "text/plain": [
       "{'command': 'cyber',\n",
       " 'Title': ['Bostrom Bootloader Hub'],\n",
       " 'Usage': ['  cyber [command]'],\n",
       " 'Flags': ['  -h, --help                help for cyber',\n",
       "  '      --home string         directory for config and data (default \"/Users/user/.cyber\")',\n",
       "  '      --log_format string   The logging format (json|plain) (default \"plain\")',\n",
       "  '      --log_level string    The logging level (trace|debug|info|warn|error|fatal|panic) (default \"info\")',\n",
       "  '      --trace               print out full stack trace on errors',\n",
       "  'Use \"cyber [command] --help\" for more information about a command.'],\n",
       " 'sub_commands': ['add-genesis-account',\n",
       "  'collect-gentxs',\n",
       "  'config',\n",
       "  'debug',\n",
       "  'export',\n",
       "  'gentx',\n",
       "  'help',\n",
       "  'init',\n",
       "  'keys',\n",
       "  'migrate',\n",
       "  'query',\n",
       "  'rollback',\n",
       "  'start',\n",
       "  'status',\n",
       "  'tendermint',\n",
       "  'testnet',\n",
       "  'tx',\n",
       "  'validate-genesis',\n",
       "  'version']}"
      ]
     },
     "execution_count": 7,
     "metadata": {},
     "output_type": "execute_result"
    }
   ],
   "source": [
    "def parse_avail_commands(chapters):\n",
    "    _temp_commands = []\n",
    "\n",
    "    if \"Available Commands\" in chapters:\n",
    "\n",
    "        for l in chapters[\"Available Commands\"]:\n",
    "            if _match := re.search(r\"^\\s+(.*?)\\s+(.*)\", l):\n",
    "                _temp_commands.append(_match.group(1))\n",
    "\n",
    "        chapters[\"sub_commands\"] = _temp_commands\n",
    "        del chapters[\"Available Commands\"]\n",
    "    return chapters\n",
    "\n",
    "\n",
    "chapters = parse_avail_commands(chapters)\n",
    "chapters\n"
   ]
  },
  {
   "cell_type": "code",
   "execution_count": 8,
   "metadata": {},
   "outputs": [
    {
     "data": {
      "text/plain": [
       "[{'command': 'cyber',\n",
       "  'Title': ['Bostrom Bootloader Hub'],\n",
       "  'Usage': ['  cyber [command]'],\n",
       "  'Flags': ['  -h, --help                help for cyber',\n",
       "   '      --home string         directory for config and data (default \"/Users/user/.cyber\")',\n",
       "   '      --log_format string   The logging format (json|plain) (default \"plain\")',\n",
       "   '      --log_level string    The logging level (trace|debug|info|warn|error|fatal|panic) (default \"info\")',\n",
       "   '      --trace               print out full stack trace on errors',\n",
       "   'Use \"cyber [command] --help\" for more information about a command.'],\n",
       "  'sub_commands': ['add-genesis-account',\n",
       "   'collect-gentxs',\n",
       "   'config',\n",
       "   'debug',\n",
       "   'export',\n",
       "   'gentx',\n",
       "   'help',\n",
       "   'init',\n",
       "   'keys',\n",
       "   'migrate',\n",
       "   'query',\n",
       "   'rollback',\n",
       "   'start',\n",
       "   'status',\n",
       "   'tendermint',\n",
       "   'testnet',\n",
       "   'tx',\n",
       "   'validate-genesis',\n",
       "   'version']}]"
      ]
     },
     "execution_count": 8,
     "metadata": {},
     "output_type": "execute_result"
    }
   ],
   "source": [
    "def query_and_parse(command):\n",
    "    _lines, command = get_cli_output(command)\n",
    "    commands_dict = parse_chapters(_lines, command)\n",
    "    commands_dict = parse_avail_commands(commands_dict)\n",
    "    return commands_dict\n",
    "\n",
    "\n",
    "commands_dict_list = [query_and_parse(\"cyber\")]\n",
    "commands_dict_list\n"
   ]
  },
  {
   "cell_type": "code",
   "execution_count": 9,
   "metadata": {},
   "outputs": [],
   "source": [
    "def get_new_commands(chapters: dict):\n",
    "    new_commands = []\n",
    "    if \"sub_commands\" in chapters:\n",
    "        \n",
    "        for i in chapters[\"sub_commands\"]:\n",
    "            command_candidate = \" \".join((chapters[\"command\"] + \" \" + i).split())\n",
    "            if command_candidate not in parsed_commands:\n",
    "                new_commands.append(command_candidate)\n",
    "                parsed_commands.append(command_candidate)\n",
    "\n",
    "    return new_commands\n",
    "\n"
   ]
  },
  {
   "cell_type": "code",
   "execution_count": 10,
   "metadata": {},
   "outputs": [],
   "source": [
    "def loop_commands_list_for_new_comands(commands_dict_list):\n",
    "    new_commands = []\n",
    "    for c in commands_dict_list:\n",
    "        t = get_new_commands(c)\n",
    "        if t != []:\n",
    "            new_commands.extend(t)\n",
    "\n",
    "    return new_commands\n"
   ]
  },
  {
   "cell_type": "code",
   "execution_count": 11,
   "metadata": {},
   "outputs": [],
   "source": [
    "all_commands_dict_list = current_dict_list = [query_and_parse('cyber')]\n",
    "\n",
    "while True:\n",
    "    new_commands = loop_commands_list_for_new_comands(current_dict_list)\n",
    "    if new_commands == []:\n",
    "        break\n",
    "    current_dict_list = [query_and_parse(command) for command in new_commands]\n",
    "    all_commands_dict_list.extend(current_dict_list)\n"
   ]
  },
  {
   "cell_type": "code",
   "execution_count": 12,
   "metadata": {},
   "outputs": [
    {
     "data": {
      "text/plain": [
       "284"
      ]
     },
     "execution_count": 12,
     "metadata": {},
     "output_type": "execute_result"
    }
   ],
   "source": [
    "len(all_commands_dict_list)"
   ]
  },
  {
   "cell_type": "code",
   "execution_count": null,
   "metadata": {},
   "outputs": [],
   "source": [
    "all_commands_dict_list"
   ]
  },
  {
   "cell_type": "code",
   "execution_count": null,
   "metadata": {},
   "outputs": [],
   "source": [
    "new_commands = []\n",
    "for c in commands_dict_list:\n",
    "    t = get_new_commands(c)\n",
    "    if t != None:\n",
    "        new_commands.extend(t)\n",
    "\n",
    "new_commands\n"
   ]
  },
  {
   "cell_type": "code",
   "execution_count": null,
   "metadata": {},
   "outputs": [],
   "source": [
    "c1 = [query_and_parse(i) for i in new_commands]\n",
    "c1\n"
   ]
  },
  {
   "cell_type": "code",
   "execution_count": null,
   "metadata": {},
   "outputs": [],
   "source": [
    "new_commands = []\n",
    "for c in c1:\n",
    "    t = get_new_commands(c)\n",
    "    if t != None:\n",
    "        new_commands.extend(t)\n",
    "\n",
    "new_commands\n"
   ]
  },
  {
   "cell_type": "code",
   "execution_count": null,
   "metadata": {},
   "outputs": [],
   "source": [
    "c2 = [query_and_parse(i) for i in new_commands]\n",
    "c2\n"
   ]
  },
  {
   "cell_type": "code",
   "execution_count": null,
   "metadata": {},
   "outputs": [],
   "source": [
    "new_commands = []\n",
    "for c in c2:\n",
    "    t = get_new_commands(c)\n",
    "    if t != None:\n",
    "        new_commands.extend(t)\n",
    "\n",
    "new_commands\n"
   ]
  },
  {
   "cell_type": "code",
   "execution_count": null,
   "metadata": {},
   "outputs": [],
   "source": [
    "c3 = [query_and_parse(i) for i in new_commands]\n",
    "c3\n"
   ]
  },
  {
   "cell_type": "code",
   "execution_count": null,
   "metadata": {},
   "outputs": [],
   "source": [
    "new_commands = []\n",
    "for c in c3:\n",
    "    t = get_new_commands(c)\n",
    "    if t != None:\n",
    "        new_commands.extend(t)\n",
    "\n",
    "new_commands\n"
   ]
  },
  {
   "cell_type": "code",
   "execution_count": null,
   "metadata": {},
   "outputs": [],
   "source": [
    "c4 = [query_and_parse(i) for i in new_commands]\n",
    "c4\n"
   ]
  },
  {
   "cell_type": "code",
   "execution_count": null,
   "metadata": {},
   "outputs": [],
   "source": [
    "new_commands = []\n",
    "for c in c4:\n",
    "    t = get_new_commands(c)\n",
    "    if t != None:\n",
    "        new_commands.extend(t)\n",
    "\n",
    "new_commands\n"
   ]
  },
  {
   "cell_type": "code",
   "execution_count": null,
   "metadata": {},
   "outputs": [],
   "source": [
    "all_commands = commands_dict_list + c1 + c2 + c3 + c4\n",
    "all_commands\n"
   ]
  },
  {
   "cell_type": "code",
   "execution_count": null,
   "metadata": {},
   "outputs": [],
   "source": [
    "# n = 0\n",
    "# for i in all_commands:\n",
    "#     if i['command'] == 'cyber query evidence':\n",
    "#         print(n)\n",
    "\n",
    "#     n += 1\n",
    "\n",
    "# del all_commands[40]\n"
   ]
  },
  {
   "cell_type": "code",
   "execution_count": null,
   "metadata": {},
   "outputs": [],
   "source": [
    "for i in all_commands[:5]:\n",
    "    print(\n",
    "        re.match(\n",
    "            r\"\\s\\s+(?:-(?P<short>\\w)[,\\s]+)?(?:--(?P<long>[\\w-]+))\\s+(?:<(?P<format>.*)>)?\\s*(?P<description>.*)?\",\n",
    "            i[\"Flags\"][0],\n",
    "        ).group(0)\n",
    "    )\n"
   ]
  },
  {
   "cell_type": "code",
   "execution_count": null,
   "metadata": {},
   "outputs": [],
   "source": [
    "count = 0\n",
    "for i in all_commands:\n",
    "\n",
    "    if i[\"Flags\"] != []:\n",
    "        i[\"flags_parsed\"] = []\n",
    "        for b in i[\"Flags\"]:\n",
    "            if match1 := re.match(\n",
    "                r\"\\s\\s+(?:-(?P<short>\\w)[,\\s]+)?(?:--(?P<long>[.\\w-]+))\\s(?:(?P<format>(uint32|ints|strings|int 64Slice|int|string|uint|float|bytesHex)))?\\s*(?P<description>.*)?\",\n",
    "                b,\n",
    "            ):\n",
    "                i[\"flags_parsed\"].append(\n",
    "                    (\n",
    "                        match1.group(\"long\"),\n",
    "                        match1.group(\"short\"),\n",
    "                        match1.group(\"format\"),\n",
    "                        match1.group(\"description\"),\n",
    "                    )\n",
    "                )\n"
   ]
  },
  {
   "cell_type": "code",
   "execution_count": null,
   "metadata": {},
   "outputs": [],
   "source": [
    "for c in all_commands:\n",
    "    print(f\"\\n# {c['title']}\\nextern '{c['command']}' [\")\n",
    "    for f in c[\"flags_parsed\"]:\n",
    "        if \".\" not in f[0]:\n",
    "            print(f\"\\t--{f[0]}{'(-'+f[1]+')' if f[1] else ''}\\t\\t# {f[3]}\")\n",
    "    print(\"]\")\n"
   ]
  },
  {
   "cell_type": "code",
   "execution_count": null,
   "metadata": {},
   "outputs": [],
   "source": []
  },
  {
   "cell_type": "code",
   "execution_count": null,
   "metadata": {},
   "outputs": [],
   "source": [
    "import pandas as pd\n"
   ]
  },
  {
   "cell_type": "code",
   "execution_count": null,
   "metadata": {},
   "outputs": [],
   "source": [
    "df = pd.DataFrame(all_commands).sort_values(\"command\", ascending=False)\n"
   ]
  },
  {
   "cell_type": "code",
   "execution_count": null,
   "metadata": {},
   "outputs": [],
   "source": [
    "path = \"/Users/user/apps-files/github/cyber_completitions/json-files/cyber-query distribution.json\"\n",
    "\n",
    "with open(path, \"r\") as f:\n",
    "    content = f.read()\n"
   ]
  },
  {
   "cell_type": "code",
   "execution_count": null,
   "metadata": {},
   "outputs": [],
   "source": [
    "import pandas as pd\n",
    "\n",
    "pd.DataFrame.from_records(json.loads(content))\n"
   ]
  },
  {
   "cell_type": "code",
   "execution_count": null,
   "metadata": {},
   "outputs": [],
   "source": [
    "_list = []\n",
    "\n",
    "for _file in os.scandir(\n",
    "    \"/Users/user/apps-files/github/cyber_completitions/json-files/\"\n",
    "):\n",
    "    with open(_file, \"r\") as f:\n",
    "        content = f.read()\n",
    "        _list.append(json.loads(content))\n"
   ]
  },
  {
   "cell_type": "code",
   "execution_count": null,
   "metadata": {},
   "outputs": [],
   "source": [
    "[i for i in _list if i != []]\n"
   ]
  },
  {
   "cell_type": "code",
   "execution_count": null,
   "metadata": {},
   "outputs": [],
   "source": [
    "df = pd.concat([pd.DataFrame.from_records(i) for i in _list if i != []])\n",
    "df\n"
   ]
  },
  {
   "cell_type": "code",
   "execution_count": null,
   "metadata": {},
   "outputs": [],
   "source": [
    "df[\"com1\"] = \"cyber \" + df[\"_command_root\"] + \" \" + df[\"_command\"]\n",
    "df\n"
   ]
  },
  {
   "cell_type": "code",
   "execution_count": null,
   "metadata": {},
   "outputs": [],
   "source": [
    "_l2 = df.loc[:, [\"_description\", \"com1\"]].to_dict(\"records\")\n",
    "_l2\n"
   ]
  },
  {
   "cell_type": "code",
   "execution_count": null,
   "metadata": {},
   "outputs": [],
   "source": [
    "for l in _l2:\n",
    "    print(f'# {l[\"_description\"]}\\nextern \"{l[\"com1\"]}\" [] \\n')\n"
   ]
  },
  {
   "cell_type": "code",
   "execution_count": null,
   "metadata": {},
   "outputs": [],
   "source": [
    "for i in json.loads(content):\n",
    "    print(\"\\t\", i[\"_command\"], \"\\t\\t#\", i[\"_description\"])\n"
   ]
  },
  {
   "cell_type": "code",
   "execution_count": null,
   "metadata": {},
   "outputs": [],
   "source": []
  },
  {
   "cell_type": "code",
   "execution_count": null,
   "metadata": {},
   "outputs": [],
   "source": [
    "parsed_sorted = sorted(parsed_commands)\n",
    "parsed_sorted.insert(0, \"cyber\")\n",
    "parsed_sorted\n"
   ]
  },
  {
   "cell_type": "code",
   "execution_count": null,
   "metadata": {},
   "outputs": [],
   "source": [
    "[get_cli_output(i) for i in parsed_sorted]\n"
   ]
  }
 ],
 "metadata": {
  "kernelspec": {
   "display_name": "Python 3.9.13 ('cyber')",
   "language": "python",
   "name": "python3"
  },
  "language_info": {
   "codemirror_mode": {
    "name": "ipython",
    "version": 3
   },
   "file_extension": ".py",
   "mimetype": "text/x-python",
   "name": "python",
   "nbconvert_exporter": "python",
   "pygments_lexer": "ipython3",
   "version": "3.9.13"
  },
  "orig_nbformat": 4,
  "vscode": {
   "interpreter": {
    "hash": "6a2e55f4a39c0f335f57965825687bdfac515b1a5fa93a558f4b981305a5a56e"
   }
  }
 },
 "nbformat": 4,
 "nbformat_minor": 2
}
