{
 "cells": [
  {
   "cell_type": "code",
   "execution_count": 171,
   "metadata": {},
   "outputs": [],
   "source": [
    "import json\n",
    "import re\n",
    "import pandas as pd\n",
    "import xlwings as xw\n"
   ]
  },
  {
   "cell_type": "code",
   "execution_count": 172,
   "metadata": {},
   "outputs": [],
   "source": [
    "with open(\"all_commands.json\", \"r\") as file:\n",
    "    all_commands = json.load(file)\n"
   ]
  },
  {
   "cell_type": "code",
   "execution_count": 173,
   "metadata": {},
   "outputs": [],
   "source": [
    "commands = []\n",
    "\n",
    "for c in all_commands:\n",
    "    if \"Available Commands\" not in c:\n",
    "        commands.append(c)\n"
   ]
  },
  {
   "cell_type": "code",
   "execution_count": 174,
   "metadata": {},
   "outputs": [],
   "source": [
    "count = 0\n",
    "for i in commands:\n",
    "    all_flags = []\n",
    "    all_flags.extend(i[\"Flags\"])\n",
    "    del i[\"Flags\"]\n",
    "    if \"Global Flags\" in i:\n",
    "        all_flags.extend(i[\"Global Flags\"])\n",
    "        del i[\"Global Flags\"]\n",
    "\n",
    "    if all_flags != []:\n",
    "        i[\"flags_parsed\"] = []\n",
    "        for b in all_flags:\n",
    "            if match1 := re.match(\n",
    "                r\"\\s\\s+(?:-(?P<short>\\w)[,\\s]+)?(?:--(?P<long>[.\\w-]+))\\s(?:(?P<format>(uint32|ints|strings|int 64Slice|int|string|uint|float|bytesHex)))?\\s*(?P<description>.*)?\",\n",
    "                b,\n",
    "            ):\n",
    "                i[\"flags_parsed\"].append(\n",
    "                    {\n",
    "                        \"long\": match1.group(\"long\"),\n",
    "                        \"short\": match1.group(\"short\"),\n",
    "                        \"format\": match1.group(\"format\"),\n",
    "                        \"description\": match1.group(\"description\"),\n",
    "                    }\n",
    "                )\n"
   ]
  },
  {
   "cell_type": "code",
   "execution_count": 175,
   "metadata": {},
   "outputs": [],
   "source": [
    "for c in commands:\n",
    "    # c[\"flags_parsed\"] = [f for f in c[\"flags_parsed\"] if f[\"long\"] != \"help\"]\n",
    "    c[\"Usage\"] = [\n",
    "        l.replace(\"[flags]\", \"\").replace(c[\"command\"], \"\").strip() for l in c[\"Usage\"]\n",
    "    ]\n",
    "    c['Description'] = \" \".join(c['Description'])[:200]"
   ]
  },
  {
   "cell_type": "code",
   "execution_count": 177,
   "metadata": {},
   "outputs": [],
   "source": [
    "for c in commands:\n",
    "    clean_string = c['Usage'][0].split(\"(\")[0].split(\"--\")[0]\n",
    "    args = re.findall(r'(?:\\[|\\<)(\\w.+?)(?:\\]|\\>)', clean_string)\n",
    "    c['args'] = []\n",
    "    for p in args:\n",
    "        p = re.sub(r'[^A-Za-z0-9]', '_', p)\n",
    "        c['args'].append(p)\n"
   ]
  },
  {
   "cell_type": "code",
   "execution_count": 178,
   "metadata": {},
   "outputs": [],
   "source": [
    "# df = pd.DataFrame(commands)\n",
    "# pd.json_normalize(df['flags_parsed'])"
   ]
  },
  {
   "cell_type": "code",
   "execution_count": 179,
   "metadata": {},
   "outputs": [],
   "source": [
    "# df = pd.DataFrame(commands).explode('flags_parsed').reset_index()\n",
    "# df['command'] = df['command'].apply(lambda x: str(x))\n",
    "# df2 = pd.json_normalize(df['flags_parsed'])\n",
    "\n",
    "# df3 = pd.concat([df[['command', 'Usage']], df2], axis=1)\n",
    "# xw.view(df3)\n"
   ]
  },
  {
   "cell_type": "code",
   "execution_count": 180,
   "metadata": {},
   "outputs": [],
   "source": [
    "# for_excel = pd.DataFrame(data=commands).applymap(lambda x: str(x))\n",
    "# xw.view(for_excel)\n"
   ]
  },
  {
   "cell_type": "code",
   "execution_count": 181,
   "metadata": {},
   "outputs": [],
   "source": [
    "# for i in all_commands:\n",
    "#     print(i[\"command\"], \"\\n\", i[\"flags_parsed\"])\n"
   ]
  },
  {
   "cell_type": "code",
   "execution_count": 182,
   "metadata": {},
   "outputs": [],
   "source": [
    "types_nu_dict = {\n",
    "    \"uint\": \"int\",\n",
    "    \"uint32\": \"int\",\n",
    "    # \"float\": \"decimal\",\n",
    "    \"float\": \"string\",\n",
    "    \"strings\": \"string\",\n",
    "    \"bytesHex\": \"string\",\n",
    "    \"ints\": \"string\",\n",
    "}\n",
    "lines = []\n",
    "\n",
    "for c in commands:\n",
    "    lines.append(f\"\\n# {c['Description']}\\nextern '{c['command']}' [\\n\")\n",
    "    for p in c['args']:\n",
    "        lines.append(f'\\t{p}: string\\n')\n",
    "    # print(f\"\\n# {c['Description']}\\nextern '{c['command']}' [\")\n",
    "    for f in c[\"flags_parsed\"]:\n",
    "        if \".\" not in f[\"long\"]:\n",
    "            long = f[\"long\"]\n",
    "            short = \"(-\" + f[\"short\"] + \")\" if f[\"short\"] else \"\"\n",
    "            f1 = types_nu_dict.get(f[\"format\"], f[\"format\"])\n",
    "            format = \": \" + f1 if f1 else \"\"\n",
    "            description = f[\"description\"]\n",
    "            lines.append(f\"\\t--{long}{short}{format}\\t\\t# {description}\\n\")\n",
    "            # print(f\"\\t--{long}{short}{format}\\t\\t# {description}\")\n",
    "    lines.append(\"]\")\n",
    "    # print(\"]\")\n",
    "\n",
    "with open(\"cyber-autocompletions.nu\", \"w\") as file:\n",
    "    file.writelines(lines)\n"
   ]
  },
  {
   "cell_type": "code",
   "execution_count": 88,
   "metadata": {},
   "outputs": [],
   "source": [
    "import pandas as pd\n"
   ]
  },
  {
   "cell_type": "code",
   "execution_count": null,
   "metadata": {},
   "outputs": [],
   "source": [
    "df = pd.DataFrame(all_commands).sort_values(\"command\", ascending=False)\n"
   ]
  },
  {
   "cell_type": "code",
   "execution_count": null,
   "metadata": {},
   "outputs": [],
   "source": [
    "path = \"/Users/user/apps-files/github/cyber_completitions/json-files/cyber-query distribution.json\"\n",
    "\n",
    "with open(path, \"r\") as f:\n",
    "    content = f.read()\n"
   ]
  },
  {
   "cell_type": "code",
   "execution_count": null,
   "metadata": {},
   "outputs": [],
   "source": [
    "import pandas as pd\n",
    "\n",
    "pd.DataFrame.from_records(json.loads(content))\n"
   ]
  },
  {
   "cell_type": "code",
   "execution_count": null,
   "metadata": {},
   "outputs": [],
   "source": [
    "_list = []\n",
    "\n",
    "for _file in os.scandir(\n",
    "    \"/Users/user/apps-files/github/cyber_completitions/json-files/\"\n",
    "):\n",
    "    with open(_file, \"r\") as f:\n",
    "        content = f.read()\n",
    "        _list.append(json.loads(content))\n"
   ]
  },
  {
   "cell_type": "code",
   "execution_count": null,
   "metadata": {},
   "outputs": [],
   "source": [
    "[i for i in _list if i != []]\n"
   ]
  },
  {
   "cell_type": "code",
   "execution_count": null,
   "metadata": {},
   "outputs": [],
   "source": [
    "df = pd.concat([pd.DataFrame.from_records(i) for i in _list if i != []])\n",
    "df\n"
   ]
  },
  {
   "cell_type": "code",
   "execution_count": null,
   "metadata": {},
   "outputs": [],
   "source": [
    "df[\"com1\"] = \"cyber \" + df[\"_command_root\"] + \" \" + df[\"_command\"]\n",
    "df\n"
   ]
  },
  {
   "cell_type": "code",
   "execution_count": null,
   "metadata": {},
   "outputs": [],
   "source": [
    "_l2 = df.loc[:, [\"_description\", \"com1\"]].to_dict(\"records\")\n",
    "_l2\n"
   ]
  },
  {
   "cell_type": "code",
   "execution_count": null,
   "metadata": {},
   "outputs": [],
   "source": [
    "for l in _l2:\n",
    "    print(f'# {l[\"_description\"]}\\nextern \"{l[\"com1\"]}\" [] \\n')\n"
   ]
  },
  {
   "cell_type": "code",
   "execution_count": null,
   "metadata": {},
   "outputs": [],
   "source": [
    "for i in json.loads(content):\n",
    "    print(\"\\t\", i[\"_command\"], \"\\t\\t#\", i[\"_description\"])\n"
   ]
  }
 ],
 "metadata": {
  "kernelspec": {
   "display_name": "Python 3.9.13 ('cyber')",
   "language": "python",
   "name": "python3"
  },
  "language_info": {
   "codemirror_mode": {
    "name": "ipython",
    "version": 3
   },
   "file_extension": ".py",
   "mimetype": "text/x-python",
   "name": "python",
   "nbconvert_exporter": "python",
   "pygments_lexer": "ipython3",
   "version": "3.9.13"
  },
  "orig_nbformat": 4,
  "vscode": {
   "interpreter": {
    "hash": "6a2e55f4a39c0f335f57965825687bdfac515b1a5fa93a558f4b981305a5a56e"
   }
  }
 },
 "nbformat": 4,
 "nbformat_minor": 2
}
